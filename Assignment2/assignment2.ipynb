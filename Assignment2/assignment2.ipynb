{
 "cells": [
  {
   "cell_type": "markdown",
   "id": "64f218a4-26d7-4aba-90d4-c4a4517bb3fa",
   "metadata": {
    "deletable": false,
    "editable": false,
    "slideshow": {
     "slide_type": ""
    },
    "tags": []
   },
   "source": [
    "# Welcome to assignment 2: Breadth First Search & Divide and Conquer\n",
    "\n",
    "## Building a Local Google Maps\n",
    "\n",
    "In this week's programming assignment, you will be working on a small-scale local Google Maps. Throughout the assignment, you will step by step build this route planner. You do not need to copy the code, it is enough to work in the cell under each assignment. Note that there are separate cells provided where you can (and should) test your code. During the assignment, you will (through customMagics) obtain a Python file (.py) which you should run against a set of unittests. Please avoid writing any unnecessary code in cells containing the `%%execwritefile` command. Doing this could alter the file `.py` and make it syntactically incorrect or interfere with the unittests. To prevent this stick to the following rules:\n",
    " - ***Do not remove cells that start with ``%%execwritefile`` and do not remove that line.***\n",
    " - If a cell contains a `%%execwritefile` command at the top and a class definition you need to complete the given methods and adding helper methods is allowed, but do **not** add new functions or Python script to the cells (like global variables).\n",
    " - If a cell contains a `%%execwritefile` command at the top and **not** a class definition you must complete the given functions and you are free to add helper functions, new classes, and Python script that contains for example global variables. Note, that the use of global variables is almost always wrong except for a few use cases such as RNG for the numpy random generator methods.\n",
    " - If a cell does **not** contain a `%%execwritefile` command you can plot things, print variables, and write test cases. Here, you are free to do whatever you want.\n",
    " - If a cell does **not** contain a `%%execwritefile` command it should not contain functional code that is needed to run other functions or classes. The reason is that it is not copied to the `.py`. So, it can not be used during the unittesting.\n",
    "\n",
    "You do not need to look at the customMagic.py nor do more than glimpse at the test file, your assignment is contained in this workbook unless specified differently in this notebook's instructions. \n",
    "\n",
    "This assignment is given as a Jupyter notebook, you might run this in your browser by starting a notebook server or through VScode (PyCharm only allows for read-only mode for jupyter notebooks, unless you have Pycharm-pro which is a paid version or you need a student license). The simplest way to [install jupyter](https://docs.jupyter.org/en/latest/install/notebook-classic.html) notebooks is by installing [Anaconda](https://docs.anaconda.com/free/anaconda/install/), a custom python distribution and packagemanager used for Data Science. If you do not want to install all of Anaconda you can also install jupyter via pip: ``pip3 install jupyter`` (`pip3` or `pip` will work depending on how you installed python3). You can find a tutorial for running the notebook [here](https://jupyter-notebook.readthedocs.io/en/latest/notebook.html). With VScode the IDE should guide you in installing the correct packages. \n",
    "\n",
    "***Hint: Jupyter Notebooks saves variables between runs. If you get unexpected results try restarting the kernel, this deletes any saved variables.*** \n",
    "\n",
    "### Some Additional Rules:\n",
    "\n",
    " - You are not allowed to change the given code. This includes attribute names, method names, arguments, etc.\n",
    " - You are not allowed to import other modules than the one provided.\n",
    " - You are allowed to add functions yourself if you feel that that makes it easier. Note, however, that points are deducted if we think that they are unnecessary. Make sure to document these consistently.\n",
    " - Read the written documentation about the functions you need to implement, they tell you what to do. Most of these functions require less than 10 lines of code.\n",
    " - In the end, you can run unittests as an extra check that your code works. You are free to add additional unittests.\n",
    " - If your program does not succeed on all unittests that are provided, it is likely that there is still a problem in your code. Make sure that all unittests succeed, before submitting the code.\n",
    " - Also keep in mind that all unit tests should be able to run within a matter of seconds on any computer.\n",
    " - A path always consists of the source and destination node/coordinate.\n",
    " - Also, a path describes unambiguous how to go from the source to the destination. For an algorithm that uses the grid to find the path, you will give all coordinates that are visited. An algorithm that uses nodes, you give all the nodes that are visited.\n",
    "\n",
    "Hint: Throughout the assignment, questions are asked about various algorithms and how and why they work. The answers are typical things that should be found in your report. \n",
    "\n",
    "\n",
    "Please fill in your student numbers down below."
   ]
  },
  {
   "cell_type": "code",
   "execution_count": 1,
   "id": "1839a71e-dc16-4586-b532-1b614bd0743d",
   "metadata": {
    "editable": true,
    "slideshow": {
     "slide_type": ""
    },
    "tags": []
   },
   "outputs": [],
   "source": [
    "# FILL IN YOUR STUDENT NUMBERS AS A GROUP NAME\n",
    "group = \"2361353_3326500\"\n",
    "\n",
    "# Set this to false if you want the default screen width.\n",
    "WIDE_SCREEN = True"
   ]
  },
  {
   "cell_type": "code",
   "execution_count": 2,
   "id": "a3cfc620-efce-4e89-9baf-91f22bc4318a",
   "metadata": {
    "editable": false,
    "slideshow": {
     "slide_type": ""
    },
    "tags": []
   },
   "outputs": [
    {
     "data": {
      "text/html": [
       "<style>.jp-Notebook { padding-left: 1% !important; padding-right: 1% !important; width:100% !important; } </style>"
      ],
      "text/plain": [
       "<IPython.core.display.HTML object>"
      ]
     },
     "metadata": {},
     "output_type": "display_data"
    }
   ],
   "source": [
    "from custommagics import CustomMagics\n",
    "import matplotlib.pyplot as plt\n",
    "\n",
    "if WIDE_SCREEN:\n",
    "    import notebook\n",
    "    from IPython.display import display, HTML\n",
    "\n",
    "    if int(notebook.__version__.split(\".\")[0]) >= 7:    \n",
    "        display(HTML(\n",
    "            '<style>'\n",
    "                '.jp-Notebook { padding-left: 1% !important; padding-right: 1% !important; width:100% !important; } '\n",
    "            '</style>'\n",
    "        ))\n",
    "    else:\n",
    "        display(HTML(\"<style>.container { width:98% !important; }</style>\"))\n",
    "\n",
    "get_ipython().register_magics(CustomMagics)"
   ]
  },
  {
   "cell_type": "code",
   "execution_count": 3,
   "id": "01d874e2-8baf-4a43-b10e-811cde0bc5ed",
   "metadata": {
    "editable": false,
    "slideshow": {
     "slide_type": ""
    },
    "tags": []
   },
   "outputs": [
    {
     "name": "stdout",
     "output_type": "stream",
     "text": [
      "assignment2_2361353_3326500_notebook.py is backup to assignment2_2361353_3326500_notebook_backup.py\n",
      "Overwriting assignment2_2361353_3326500_notebook.py\n"
     ]
    }
   ],
   "source": [
    "%%execwritefile assignment2_{group}_notebook.py 0 \n",
    "\n",
    "# DO NOT CHANGE THIS CELL.\n",
    "# THESE ARE THE ONLY IMPORTS YOU ARE ALLOWED TO USE:\n",
    "\n",
    "import numpy as np\n",
    "import copy\n",
    "from grid_maker import Map\n",
    "from collections import defaultdict, deque\n",
    "\n",
    "RNG = np.random.default_rng()"
   ]
  },
  {
   "cell_type": "code",
   "execution_count": 4,
   "id": "1df1055a-2f40-46ac-8437-377155ff367b",
   "metadata": {
    "editable": true,
    "slideshow": {
     "slide_type": ""
    },
    "tags": []
   },
   "outputs": [],
   "source": [
    "# size of the image\n",
    "plt.matplotlib.rcParams['figure.figsize'] = [60, 20]  \n",
    "# font size used in matplotlib figures\n",
    "plt.matplotlib.rcParams['font.size'] = 30"
   ]
  },
  {
   "cell_type": "markdown",
   "id": "3b3495c1-629c-42a6-95c6-39ef959fca82",
   "metadata": {
    "editable": false,
    "slideshow": {
     "slide_type": ""
    },
    "tags": []
   },
   "source": [
    "## Assignment Outline\n",
    "\n",
    "In this assignment, you will create a route planner for a fictional country where we have several cities connected by highways. Your final goal is to give travel directions (route description) to go as fast as possible from any coordinate in the map to any other coordinate in the map. Due to the size of the map, it would be infeasible to use an exhaustive search, where you check all possible paths and find the fastest path. Therefore, we will use the idea of dynamic programming to save partial solutions that are always the same (between crossroads you travel always at the same coordinates), and the idea of divide and conquer to find the fastest path at several levels of abstraction (neighborhood, city, and country). Lastly, we will use Dijkstra (a form of dynamic programming) to find the fastest path efficiently.\n",
    "\n",
    "### Assignment Algorithms\n",
    "\n",
    "In the assignment, we will start small with simpler algorithms and slowly build towards this more complex algorithm:\n",
    "\n",
    "Shortest Path (distance):\n",
    " - [1.0](#1.0-Grid-Floodfill,-a-Basic-BFS) Breadth-first search (BFS) with a small and simple grid, i.e., flood-fill algorithm.\n",
    " - [1.1](#1.1-Graph-vs-Grid) Building a graph from an array to reduce the size of the state-space.\n",
    " - [1.2](#1.2-Graph-Floodfill) BFS using a weighted graph based on the array.\n",
    " - [1.3](#1.3-BFS-with-Priority-Queue) BFS using a weighted graph and a priority queue.\n",
    "\n",
    "Fastest Path (time):\n",
    " - [2.0](#2.0-Fastest-Path-with-BFS) Make a more general BFS algorithm where you take the maximum speed into account.\n",
    " - [2.1](#2.1-From-Coordinate-to-Node) Make an algorithm to find the nearest nodes given the grid and graph.\n",
    " - [2.2](#2.2-Hierarchical-Graph-Representations) Split the graph into multiple graphs to reduce the state-space (A manual optimization based on divide and conquer). Now, we can chain several optimal paths to find a coordinate to coordinate path.\n",
    " - [2.3](#2.3a-Solving-the-Hierarchical-Graph-Representations) In the previous step, we cut the graphs into several graphs. However, this might not always lead to the optimal path, therefore, We can at a parameter for how many solutions you want to find for each separate graph. This gives us the opportunity to tune between optimization and optimal pathfinding.\n",
    " - [3.0](#3.0-Fastest-Path-Between-Coordinates-(map-level-5)) Put everything together to find the (almost) optimal path from one coordinate to another.\n",
    "\n",
    "***Note, that if you only explain in the report the steps splitting of the graphs and multiple solutions without programming it, you still are able to get an 8.5***\n",
    "\n",
    "### Map Levels\n",
    "\n",
    "In the `grid_maker` module you can find a class `Map` that can be initialized with several difficulty levels, below you can find a description of each difficulty level. \n",
    "- level 0: A small grid representing a neighborhood with roads around the edges and streets from edge to edge.\n",
    "- level 1: A small grid representing a neighborhood with roads around the edges but the streets are not necessary from edge to edge.\n",
    "- level 2: A medium grid representing a larger neighborhood consisting of 4 level 1 neighborhoods with main roads around the edges.\n",
    "- level 3: A large grid representing a city district that consists of 4 larger neighborhoods with main roads around the edges and between the larger neighborhoods.\n",
    "- level 4: A very large grid representing a city that has 4 city districts and main roads between city districts and around the city.\n",
    "- level 5: A huge grid representing a country, consisting of 2 to 5 cities. Each city has a ring highway with exits leading into the city. The ring highways are interconnected with highways.\n",
    "\n",
    "### Map Objects Methods & Attributes\n",
    "\n",
    "Each type of road has its own speed limit which can be adjusted in `grid_maker.py` and denoted by an integer in the grid. Therefore, the values in a grid can also be used to identify road types. Furthermore, the `Map` class also contains several useful methods to help you program (You can ignore all static methods):\n",
    " - The `repr` method can be used to print the grid.\n",
    " - The `show` method can be used to plot the grid as an image. If a path is given as an argument for show then the path is also shown. A path should consist of a list of coordinates (a tuple of two ints). The second argument `axis` is a boolean which determines if the axis are plotted or not.\n",
    " - A `Map` object can be indexed the same way a 2D numpy array can be indexed. For example, `Map()[0,0]` gives the top left coordinate of a `Map`.\n",
    " - The `get_coordinate`  method gets a random coordinate on the map.\n",
    " - The `get_coordinate_in_city` method gets a random coordinate in a specific city and defaults to `get_coordinate` if the difficulty level is lower than 5.\n",
    " - The `get_city_map` method returns a copy of the map without the highways, but with exits.\n",
    " - The `get_highway_map` method returns a copy of the map with only highways.\n",
    " - The `get_all_city_exits` method return all highway exits of all cities.\n",
    "  \n",
    "A `Map` object has also the following attributes:\n",
    " - `grid`, the map which is a 2D numpy array.\n",
    " - `shape`, the shape of the grid.\n",
    " - `size`, the size of the grid.\n",
    " - `city_corners`, the upper left corner of a city in the general map, for level 0 to 4 this is just `(0,0)`\n",
    " - `city_grids`, the individual city grids of each map. Note, that this has a different coordinate system than the `map`. Namely, Each individual city has a left upper corner (0,0). So a coordinate in a individual city corresponds to a coordinate in the map using the `city_corners`."
   ]
  },
  {
   "cell_type": "markdown",
   "id": "9d9f4700-e8ef-4cf9-8f97-9949f9d2cf72",
   "metadata": {
    "editable": false,
    "slideshow": {
     "slide_type": ""
    },
    "tags": []
   },
   "source": [
    "## 1.0 Grid Floodfill, a Basic BFS\n",
    "\n",
    "In lab 4 exercise 3, we have seen how you can find the shortest path with breadth-first search (BFS) with static source and destination nodes. In this assignment, we will implement a more general algorithm where we can find any destination node in a grid from any source node. \n",
    "\n",
    "Often BFS on a grid is called a flood-fill algorithm. So, if you want more information about these kinds of BFS algorithms you can google flood-fill algorithms. The idea of a flood-fill algorithm is that you take one step in all possible directions in the grid. In this assignment, we can only go up, down, left, and right. For example, if you look at the image down below the red arrows indicate the first \"layer\" in the flood-fill algorithm. Next, you take one step from the red arrows that are indicated by the blue arrows. So, a flood-fill algorithm is just a BFS algorithm on a graph with cycles that is often structured as a grid.\n",
    "\n",
    "So before we can implement a BFS on the grid, we need to think about how to solve one of the major problems in graph traversal with cyclic graphs which is how to prevent going in circles. The simplest solution is to have a variable (history) that tracks where you have been. If you come across a node/coordinate that you have already visited then you would run in cycle if you keep exploring so you do not explore any option that you can take from that node.\n",
    "\n",
    "In lab 4 exercise 3, we stored all the paths how to get to a node. In this assignment, we do not need to store all paths as we are only interested in the optimal path therefore for each node only the previous node in the grid is stored. This is what the arrows in the image indicate. This makes it possible to retrace the steps and find the full path. As usual, you start the flood-fill at the source node. However, we can stop as soon as we find the destination node. Think about why we can stop if we find the destination node. Is it possible to find a shorter path after you already found the destination node? Why does Floodfill guarantee that you find the shortest path?\n",
    "\n",
    "So for the following grid:\n",
    "\n",
    "```python\n",
    "road_grid = np.array([\n",
    "    [1, 1, 1, 1, 1, 1, 1, 1, 1, 1, 1, 1, 1],\n",
    "    [1, 0, 0, 0, 0, 1, 0, 0, 1, 0, 0, 0, 1],\n",
    "    [1, 0, 0, 0, 0, 1, 0, 0, 1, 0, 0, 0, 1],\n",
    "    [1, 0, 0, 0, 0, 1, 0, 0, 1, 0, 0, 0, 1],\n",
    "    [1, 1, 1, 1, 1, 1, 1, 1, 1, 1, 1, 1, 1],\n",
    "    [1, 0, 0, 0, 0, 1, 0, 0, 1, 0, 0, 0, 1],\n",
    "    [1, 0, 0, 0, 0, 1, 0, 0, 1, 0, 0, 0, 1],\n",
    "    [1, 0, 0, 0, 0, 1, 0, 0, 1, 0, 0, 0, 1],\n",
    "    [1, 1, 1, 1, 1, 1, 1, 1, 1, 1, 1, 1, 1],\n",
    "])\n",
    "```\n",
    "\n",
    "A flood-fill from node `(4,2)` to `(6,5)` would look like the image below. Note, that the arrows are the information stored at each node (no arrow is no information) and the colors are one step in the flood-fill. \n",
    "\n",
    "<img src=\"floodfill.png\" alt=\"drawing\" width=\"500\"/>\n",
    "\n",
    "**Hint: Throughout the assignment, we will use attributes like queue and history. The difference between the two is that a queue determines the order in which nodes are visited. So everything in the queue has not been visited yet. The history does *not* tell which nodes are already visited, but which ones are visited or in the priority queue. In other words, the history contains all the steps that are taken or which will be taken. Also, it stores, for each node, information on how you can reach the node optimally, i.e., the previous node in the optimal path and (depending on the exercise) the distance between these nodes.**"
   ]
  },
  {
   "cell_type": "code",
   "execution_count": 6,
   "id": "a9378155-58df-4605-b576-557af7ddba26",
   "metadata": {
    "editable": true,
    "slideshow": {
     "slide_type": ""
    },
    "tags": []
   },
   "outputs": [
    {
     "name": "stdout",
     "output_type": "stream",
     "text": [
      "Replace existing code assignment2_2361353_3326500_notebook.py\n"
     ]
    }
   ],
   "source": [
    "%%execwritefile assignment2_{group}_notebook.py 1 -a -s\n",
    "\n",
    "class FloodFillSolver():\n",
    "    \"\"\"\n",
    "    A class instance should at least contain the following attributes after being called:\n",
    "        :param queue: A queue that contains all the coordinates that need to be visited.\n",
    "        :type queue: collections.deque\n",
    "        :param history: A dictionary containing the coordinates that will be visited and as values the coordinate that lead to this coordinate.\n",
    "        :type history: dict[tuple[int], tuple[int]]\n",
    "    \"\"\"\n",
    "    \n",
    "    def __call__(self, road_grid, source, destination):\n",
    "        \"\"\"\n",
    "        This method gives a shortest route through the grid from source to destination.\n",
    "        You start at the source and the algorithm ends if you reach the destination, both coordinates should be included in the path.\n",
    "        To find the shortest route a version of a flood fill algorithm is used, see the explanation above.\n",
    "        A route consists of a list of coordinates.\n",
    "\n",
    "        Hint: The history is already given as a dictionary with as keys the coordinates in the state-space graph and\n",
    "        as values the previous coordinate from which this coordinate was visited.\n",
    "\n",
    "        :param road_grid: The array containing information where a house (zero) or a road (one) is.\n",
    "        :type road_grid: np.ndarray[(Any, Any), int]\n",
    "        :param source: The coordinate where the path starts.\n",
    "        :type source: tuple[int]\n",
    "        :param destination: The coordinate where the path ends.\n",
    "        :type destination: tuple[int]\n",
    "        :return: The shortest route, which consists of a list of coordinates and the length of the route.\n",
    "        :rtype: list[tuple[int]], float\n",
    "        \"\"\"\n",
    "        self.queue = deque([source])\n",
    "        self.history = {source: None}\n",
    "        self.road_grid = road_grid\n",
    "        self.destination = destination\n",
    "        self.main_loop()\n",
    "\n",
    "        return self.find_path()     \n",
    "\n",
    "    def find_path(self):\n",
    "        \"\"\"\n",
    "        This method finds the shortest paths between the source node and the destination node.\n",
    "        It also returns the length of the path. \n",
    "        \n",
    "        Note, that going from one coordinate to the next has a length of 1.\n",
    "        For example: The distance between coordinates (0,0) and (0,1) is 1 and \n",
    "                     The distance between coordinates (3,0) and (3,3) is 3. \n",
    "\n",
    "        The distance is the Manhattan distance of the path.\n",
    "\n",
    "        :return: A path that is the optimal route from source to destination and its length.\n",
    "        :rtype: list[tuple[int]], float\n",
    "        \"\"\"\n",
    "        # if self.destination not in self.history:\n",
    "        #     return [], 0\n",
    "\n",
    "        # path = []\n",
    "        # current_node = self.destination\n",
    "        # while current_node is not None:\n",
    "        #     path.append(current_node)\n",
    "        #     if current_node in self.history:  # Check if current_node is in self.history\n",
    "        #         current_node = self.history[current_node]\n",
    "        #     else:\n",
    "        #         break  # Break the loop if current_node is not in self.history\n",
    "        # path.reverse()\n",
    "        # return path, len(path) - 1\n",
    "\n",
    "        if self.destination not in self.history:\n",
    "            return [], 0\n",
    "\n",
    "        path = []\n",
    "        current_node = self.destination\n",
    "        while current_node is not None:\n",
    "            path.append(current_node)\n",
    "            current_node = self.history.get(current_node)  # Safe access to potentially non-existent keys\n",
    "        path.reverse()\n",
    "        return path, len(path) - 1\n",
    "            \n",
    "    def main_loop(self):\n",
    "        \"\"\"\n",
    "        This method contains the logic of the flood-fill algorithm for the shortest path problem.\n",
    "\n",
    "        It does not have any inputs nor outputs. \n",
    "        Hint, use object attributes to store results.\n",
    "        \"\"\"\n",
    "        # while self.queue:\n",
    "        #     current_node = self.queue.popleft()\n",
    "        #     if current_node == self.destination:\n",
    "        #         return\n",
    "        #     for neighbor in self.next_step(current_node):\n",
    "        #         if neighbor not in self.history:\n",
    "        #             self.queue.append(neighbor)\n",
    "        #             self.history[neighbor] = current_node\n",
    "\n",
    "        # while self.queue:\n",
    "        #     current_node = self.queue.popleft()\n",
    "        #     if self.base_case(current_node):\n",
    "        #         return\n",
    "        #     for new_node in self.next_step(current_node):\n",
    "        #         self.step(current_node, new_node)\n",
    "\n",
    "        while self.queue:\n",
    "            current_node = self.queue.popleft()\n",
    "            if current_node == self.destination:\n",
    "                return\n",
    "            for new_node in self.next_step(current_node):\n",
    "                self.step(current_node, new_node)\n",
    "        \n",
    "        \n",
    "\n",
    "    def base_case(self, node):\n",
    "        \"\"\"\n",
    "        This method checks if the base case is reached.\n",
    "\n",
    "        :param node: The current node/coordinate\n",
    "        :type node: tuple[int]\n",
    "        :return: This returns if the base case is found or not\n",
    "        :rtype: bool\n",
    "        \"\"\"\n",
    "        return node == self.destination\n",
    "        \n",
    "    def step(self, node, new_node):\n",
    "        \"\"\"\n",
    "        One flood-fill step.\n",
    "\n",
    "        :param node: The current node/coordinate\n",
    "        :type node: tuple[int]\n",
    "        :param new_node: The next node/coordinate that can be visited from the current node/coordinate\n",
    "        :type new_node: tuple[int]       \n",
    "        \"\"\"\n",
    "        \n",
    "        if new_node not in self.history and self.road_grid[new_node] != 0:  # Ensure new_node is a road and not already visited\n",
    "            self.queue.append(new_node)\n",
    "            self.history[new_node] = node\n",
    "\n",
    "    def next_step(self, node):\n",
    "        \"\"\"\n",
    "        This method returns the next possible actions.\n",
    "\n",
    "        :param node: The current node/coordinate\n",
    "        :type node: tuple[int]\n",
    "        :return: A list with possible next coordinates that can be visited from the current coordinate.\n",
    "        :rtype: list[tuple[int]]  \n",
    "        \"\"\"\n",
    "        # directions = [(0, 1), (1, 0), (0, -1), (-1, 0)]  # right, down, left, up\n",
    "        # possible_steps = []\n",
    "        # x, y = node\n",
    "        # for dx, dy in directions:\n",
    "        #     nx, ny = x + dx, y + dy\n",
    "        #     if 0 <= nx < self.road_grid.shape[0] and 0 <= ny < self.road_grid.shape[1]:\n",
    "        #         if self.road_grid[nx, ny] == 1:  # assuming 1 is road and 0 is house\n",
    "        #             possible_steps.append((nx, ny))\n",
    "        # return possible_steps\n",
    "\n",
    "        # return [(node[0] + 1, node[1]), (node[0] - 1, node[1]), (node[0], node[1] + 1), (node[0], node[1] - 1)]\n",
    "\n",
    "        # possible_steps = [(node[0] + 1, node[1]), (node[0] - 1, node[1]), (node[0], node[1] + 1), (node[0], node[1] - 1)]\n",
    "        # valid_steps = [(x, y) for x, y in possible_steps if 0 <= x < self.road_grid.shape[0] and 0 <= y < self.road_grid.shape[1]and self.road_grid[x, y] == 1]\n",
    "        # return valid_steps\n",
    "\n",
    "        directions = [(0, 1), (1, 0), (0, -1), (-1, 0)]\n",
    "        x, y = node\n",
    "        valid_steps = []\n",
    "        for dx, dy in directions:\n",
    "            nx, ny = x + dx, y + dy\n",
    "            # Ensure next step is within grid bounds and is a road (assuming 1 represents roads)\n",
    "            if 0 <= nx < self.road_grid.shape[0] and 0 <= ny < self.road_grid.shape[1]:\n",
    "                if self.road_grid[nx, ny] != 0:  # Only consider valid road parts\n",
    "                    valid_steps.append((nx, ny))\n",
    "        return valid_steps\n",
    "        "
   ]
  },
  {
   "cell_type": "markdown",
   "id": "fdeaec18-70b3-4fb9-95bc-73dada67fd1e",
   "metadata": {
    "editable": false,
    "slideshow": {
     "slide_type": ""
    },
    "tags": []
   },
   "source": [
    "### Test your code\n",
    "\n",
    "Below, you can test your algorithm. Make sure that you test various road grids and that your algorithm works for all of them. To give you a head start a very limited test is given."
   ]
  },
  {
   "cell_type": "code",
   "execution_count": 7,
   "id": "f1183567-6ff7-4b08-9650-ddcd32479fd7",
   "metadata": {},
   "outputs": [
    {
     "name": "stdout",
     "output_type": "stream",
     "text": [
      "array([[30., 30., 30., 30.],\n",
      "       [30.,  0.,  0., 30.],\n",
      "       [30., 30., 30., 30.]])\n"
     ]
    }
   ],
   "source": [
    "# If you put the map generated in a separate cell you can run multiple tests on the same map\n",
    "map_ = Map(0, (0,0))\n",
    "print(map_)"
   ]
  },
  {
   "cell_type": "code",
   "execution_count": 8,
   "id": "16b2b1c5-aa6d-4d70-9570-501dd6fb5274",
   "metadata": {
    "editable": true,
    "slideshow": {
     "slide_type": ""
    },
    "tags": []
   },
   "outputs": [
    {
     "name": "stdout",
     "output_type": "stream",
     "text": [
      "(2, 3)\n",
      "The path length was 5.\n"
     ]
    },
    {
     "data": {
      "image/png": "[encoded data removed]",
      "text/plain": [
       "<Figure size 1800x600 with 2 Axes>"
      ]
     },
     "metadata": {},
     "output_type": "display_data"
    }
   ],
   "source": [
    "plt.matplotlib.rcParams['figure.dpi'] = max(30, map_.size ** 0.5 // 2)  # Number of pixels, therefore, the quality of the image. A large dpi is very slow.\n",
    "\n",
    "# Generate a random start and end position in the grid for proper testing.\n",
    "start = (0,0)\n",
    "end =  (map_.shape[0]-1, map_.shape[1]-1)\n",
    "print(end)\n",
    "path, length = FloodFillSolver()(map_, start, end)\n",
    "print(f\"The path length was {length}.\")\n",
    "\n",
    "map_.show(path, True)"
   ]
  },
  {
   "cell_type": "markdown",
   "id": "399c0bf0-b6e4-4f77-b43b-00a47ddd3178",
   "metadata": {
    "editable": false,
    "slideshow": {
     "slide_type": ""
    },
    "tags": []
   },
   "source": [
    "## 1.1 Graph vs Grid\n",
    "\n",
    "While the pathfinding works in the previous question it is not very efficient for a large grid or road network. Therefore, we can apply the principles of divide and conquer and dynamic programming to make it faster. So instead of finding the next possible action for each coordinate each time we run the solver, we will make a graph representation of the road network where we can save all possible next action for the coordinates that matter. When this graph is made we can use it to find the shortest path. Think about how this affects the algorithm and why it becomes faster. Does the complexity change or the state-space?\n",
    "\n",
    "### 1.1.0 Making Graph Nodes from a Map\n",
    "\n",
    "Here, we will make the graph from a given city grid. This graph should contain the following nodes:\n",
    " - All coordinates that are junctions.\n",
    " - All coordinates where you can change direction.\n",
    " - All coordinates that are a dead end.\n",
    "\n",
    "All other coordinates should ***not*** be in the graph. To represent the graph we use an adjacency list where each node in the graph is a coordinate. \n",
    "\n",
    "So given the map below:\n",
    "\n",
    "```python\n",
    "road_grid = np.array([\n",
    "    [30, 30, 30, 30, 30, 30, 30, 30, 30, 30, 30, 30, 30],\n",
    "    [30,  0,  0,  0,  0, 15,  0,  0, 15,  0,  0,  0, 30],\n",
    "    [30,  0,  0,  0,  0, 15,  0,  0, 15,  0,  0,  0, 30],\n",
    "    [30,  0,  0,  0,  0, 15,  0,  0, 15,  0,  0,  0, 30],\n",
    "    [30, 15, 15, 15, 15, 15, 15, 15, 15, 15, 15, 15, 30],\n",
    "    [30,  0,  0,  0,  0, 15,  0,  0, 15,  0,  0,  0, 30],\n",
    "    [30,  0,  0,  0,  0, 15,  0,  0, 15,  0,  0,  0, 30],\n",
    "    [30,  0,  0,  0,  0, 15,  0,  0, 15,  0,  0,  0, 30],\n",
    "    [30, 30, 30, 30, 30, 30, 30, 30, 30, 30, 30, 30, 30]\n",
    "])\n",
    "```\n",
    "\n",
    "Without the edges, we get the following adjacency list:\n",
    "\n",
    "```python\n",
    "adjacency_list = {\n",
    "    (0,  0): set(),\n",
    "    (0,  5): set(),\n",
    "    (0,  8): set(),\n",
    "    (0, 12): set(),\n",
    "    (4,  0): set(),\n",
    "    (4,  5): set(),\n",
    "    (4,  8): set(),\n",
    "    (4, 12): set(),\n",
    "    (8,  0): set(),\n",
    "    (8,  5): set(),\n",
    "    (8,  8): set(),\n",
    "    (8, 12): set(),\n",
    "}\n",
    "```"
   ]
  },
  {
   "cell_type": "code",
   "execution_count": 31,
   "id": "7abe8066-7c50-4ea2-a965-2f78a2148bc8",
   "metadata": {},
   "outputs": [
    {
     "name": "stdout",
     "output_type": "stream",
     "text": [
      "Replace existing code assignment2_2361353_3326500_notebook.py\n"
     ]
    }
   ],
   "source": [
    "%%execwritefile assignment2_{group}_notebook.py 10 -a -s\n",
    "\n",
    "class GraphBluePrint():\n",
    "    \"\"\"\n",
    "    You can ignore this class, it is just needed due to technicalities.\n",
    "    \"\"\"\n",
    "    def find_nodes(self): pass\n",
    "    def find_edges(self): pass\n",
    "    \n",
    "class Graph(GraphBluePrint):   \n",
    "    \"\"\"\n",
    "    Attributes:\n",
    "        :param adjacency_list: The adjacency list with the road distances and speed limit.\n",
    "        :type adjacency_list: dict[tuple[int]: set[edge]], where an edge is a fictional datatype \n",
    "                              which is a tuple containing the datatypes tuple[int], int, float\n",
    "        :param map: The map of the graph.\n",
    "        :type map: Map\n",
    "    \"\"\"\n",
    "    def __init__(self, map_, start=(0, 0)):\n",
    "        \"\"\"\n",
    "        This function transforms any (city or lower) map into a graph representation.\n",
    "\n",
    "        :param map_: The map that needs to be transformed.\n",
    "        :type map_: Map\n",
    "        :param start: The start node from which we will find all other nodes.\n",
    "        :type start: tuple[int]\n",
    "        \"\"\"\n",
    "        self.adjacency_list = {}\n",
    "        self.map = map_\n",
    "        self.start = start\n",
    "        \n",
    "        self.find_nodes()\n",
    "        self.find_edges()  # This will be implemented in the next notebook cell\n",
    "        \n",
    "    def find_nodes(self):\n",
    "        \"\"\"\n",
    "        This method contains a breadth-frist search algorithm to find all the nodes in the graph.\n",
    "        So far, we called this method `step`. However, this class is more than just the search algorithm,\n",
    "        therefore, we gave it a bit more descriptive name.\n",
    "\n",
    "        Note, that we only want to find the nodes, so history does not need to contain a partial path (previous node).\n",
    "        In `find_edges` (the next cell), we will add edges for each node.\n",
    "        \"\"\"\n",
    "        queue = deque([self.start])\n",
    "        history = {self.start}\n",
    "        self.adjacency_list[self.start] = set()\n",
    "        while queue:\n",
    "            current_node = queue.popleft()\n",
    "            neighbours = self.neighbour_coordinates(current_node)\n",
    "            for neighbour in neighbours:\n",
    "                if neighbour not in history:\n",
    "                    history.add(neighbour)\n",
    "                    queue.append(neighbour)\n",
    "                    self.adjacency_list_add_node(neighbour, neighbours)\n",
    "        \n",
    "        \n",
    "                    \n",
    "    def adjacency_list_add_node(self, coordinate, actions):\n",
    "        \"\"\"\n",
    "        This is a helper function for the breadth-first search algorithm to add a coordinate to the `adjacency_list` and\n",
    "        to determine if a coordinate needs to be added to the `adjacency_list`.\n",
    "\n",
    "        Reminder: A coordinate should only be added to the adjacency list if it is a corner, a crossing, or a dead end.\n",
    "                  Adding the coordinate to the adjacency_list is equivalent to saying that it is a node in the graph.\n",
    "\n",
    "        :param coordinate: The coordinate that might need to be added to the adjacency_list.\n",
    "        :type coordinate: tuple[int]\n",
    "        :param actions: The actions possible from this coordinate, an action is defined as an action in the coordinate state-space.\n",
    "        :type actions: list[tuple[int]]\n",
    "        \"\"\"\n",
    "        if len(actions) > 2: # If the coordinate is a corner or crossing\n",
    "            self.adjacency_list[coordinate] = set()\n",
    "        if len(actions) == 0: # If the coordinate is a dead end\n",
    "            self.adjacency_list[coordinate] = set()\n",
    "                           \n",
    "    def neighbour_coordinates(self, coordinate):\n",
    "        \"\"\"\n",
    "        This method returns the next possible actions and is part of the breadth-first search algorithm.\n",
    "        Similar to `find_nodes`, we often call this method `next_step`.\n",
    "        \n",
    "        :param coordinate: The current coordinate\n",
    "        :type coordinate: tuple[int]\n",
    "        :return: A list with possible next coordinates that can be visited from the current coordinate.\n",
    "        :rtype: list[tuple[int]]  \n",
    "        \"\"\"\n",
    "        max_height, max_width = self.map.shape\n",
    "        possible_moves = [\n",
    "            (coordinate[0] + 1, coordinate[1]),  # Move down\n",
    "            (coordinate[0] - 1, coordinate[1]),  # Move up\n",
    "            (coordinate[0], coordinate[1] + 1),  # Move right\n",
    "            (coordinate[0], coordinate[1] - 1)   # Move left\n",
    "        ]\n",
    "        # Check if the moves are within the map's boundaries\n",
    "        return [move for move in possible_moves if 0 <= move[0] < max_height and 0 <= move[1] < max_width and self.map.grid[move[0], move[1]] != 0]\n",
    "    \n",
    "    def __repr__(self):\n",
    "        \"\"\"\n",
    "        This returns a representation of a graph.\n",
    "\n",
    "        :return: A string representing the graph object.\n",
    "        :rtype: str\n",
    "        \"\"\"\n",
    "        # You can change this to anything you like, such that you can easily print a Graph object. An example is already given.\n",
    "        return repr(dict(sorted(self.adjacency_list.items()))).replace(\"},\", \"},\\n\")\n",
    "\n",
    "    def __getitem__(self, key):\n",
    "        \"\"\"\n",
    "        A magic method that makes using keys possible.\n",
    "        This makes it possible to use self[node] instead of self.adjacency_list[node]\n",
    "\n",
    "        :return: The nodes that can be reached from the node `key`.\n",
    "        :rtype: set[tuple[int]]\n",
    "        \"\"\"\n",
    "        return self.adjacency_list[key]\n",
    "\n",
    "    def __contains__(self, key):\n",
    "        \"\"\"\n",
    "        This magic method makes it possible to check if a coordinate is in the graph.\n",
    "\n",
    "        :return: This returns if the coordinate is in the graph.\n",
    "        :rtype: bool\n",
    "        \"\"\"\n",
    "        return key in self.adjacency_list\n",
    "\n",
    "    def get_random_node(self):\n",
    "        \"\"\"\n",
    "        This returns a random node from the graph.\n",
    "        \n",
    "        :return: A random node\n",
    "        :rtype: tuple[int]\n",
    "        \"\"\"\n",
    "        return tuple(RNG.choice(list(self.adjacency_list)))\n",
    "        \n",
    "    def show_coordinates(self, size=5, color='k'):\n",
    "        \"\"\"\n",
    "        If this method is used before another method that does a plot, it will be plotted on top.\n",
    "\n",
    "        :param size: The size of the dots, default to 5\n",
    "        :type size: int\n",
    "        :param color: The Matplotlib color of the dots, defaults to black\n",
    "        :type color: string\n",
    "        \"\"\"\n",
    "        nodes = self.adjacency_list.keys()\n",
    "        plt.plot([n[1] for n in nodes], [n[0] for n in nodes], 'o', color=color, markersize=size)        \n",
    "\n",
    "    def show_edges(self, width=0.05, color='r'):\n",
    "        \"\"\"\n",
    "        If this method is used before another method that does a plot, it will be plotted on top.\n",
    "        \n",
    "        :param width: The width of the arrows, default to 0.05\n",
    "        :type width: float\n",
    "        :param color: The Matplotlib color of the arrows, defaults to red\n",
    "        :type color: string\n",
    "        \"\"\"\n",
    "        for node, edge_list in self.adjacency_list.items():\n",
    "            for next_node,_,_ in edge_list:\n",
    "                plt.arrow(node[1], node[0], (next_node[1] - node[1])*0.975, (next_node[0] - node[0])*0.975, color=color, length_includes_head=True, width=width, head_width=4*width)\n"
   ]
  },
  {
   "cell_type": "markdown",
   "id": "77bfc34d-d19a-43d9-81df-8e7a3fd22a28",
   "metadata": {
    "editable": false,
    "slideshow": {
     "slide_type": ""
    },
    "tags": []
   },
   "source": [
    "### Test your code\n",
    "\n",
    "Below, you can test your algorithm. Make sure that you test various road grids and that your algorithm works for all of them. To give you a head start a very limited test is given."
   ]
  },
  {
   "cell_type": "code",
   "execution_count": 12,
   "id": "5ae8f705-f106-4798-a6ea-a4e9c8682ca4",
   "metadata": {},
   "outputs": [
    {
     "name": "stdout",
     "output_type": "stream",
     "text": [
      "array([[30., 30., 30., 30., 30.],\n",
      "       [30.,  0., 15.,  0., 30.],\n",
      "       [30., 15., 15., 15., 30.],\n",
      "       [30.,  0., 15.,  0., 30.],\n",
      "       [30., 30., 30., 30., 30.]])\n"
     ]
    }
   ],
   "source": [
    "# If you put the map generated in a separate cell you can run multiple tests on the same map\n",
    "map_ = Map(0, (1,1))\n",
    "print(map_)"
   ]
  },
  {
   "cell_type": "code",
   "execution_count": 32,
   "id": "cb66240b-b273-44d9-851c-039f8bdc8b82",
   "metadata": {},
   "outputs": [
    {
     "data": {
      "image/png": "[encoded data removed]",
      "text/plain": [
       "<Figure size 1800x600 with 2 Axes>"
      ]
     },
     "metadata": {},
     "output_type": "display_data"
    }
   ],
   "source": [
    "plt.matplotlib.rcParams['figure.dpi'] = max(30, map_.size ** 0.5 // 2)  # Number of pixels, therefore, the quality of the image. A large dpi is very slow.\n",
    "\n",
    "graph = Graph(map_)\n",
    "graph.show_coordinates(size=30, color=\"k\")\n",
    "map_.show()"
   ]
  },
  {
   "cell_type": "markdown",
   "id": "27a8f51c-30d6-450f-9d26-fcf2d36f44ea",
   "metadata": {
    "editable": false,
    "slideshow": {
     "slide_type": ""
    },
    "tags": []
   },
   "source": [
    "### 1.1.1 Making a Graph from a Map\n",
    "\n",
    "To represent the graph we use an adjacency list, however, for the edges, we do not only store the connecting node but also the distance and speed limit. For now, we do not need the speed limit. Each coordinate has a length 1 and the speed limit is the integer in the grid. So, a piece of road between two nodes, i.e, the edge between two nodes has a distance equal to the number of coordinates between the nodes and the speed limit is the mode of all the speed limits of the coordinates. You can assume that the speed limit does not change for one road section. Only at the nodes itself can the speed limit change.\n",
    "\n",
    "So given the map below:\n",
    "\n",
    "```python\n",
    "road_grid = np.array([\n",
    "    [30, 30, 30, 30, 30, 30, 30, 30, 30, 30, 30, 30, 30],\n",
    "    [30,  0,  0,  0,  0, 15,  0,  0, 15,  0,  0,  0, 30],\n",
    "    [30,  0,  0,  0,  0, 15,  0,  0, 15,  0,  0,  0, 30],\n",
    "    [30,  0,  0,  0,  0, 15,  0,  0, 15,  0,  0,  0, 30],\n",
    "    [30, 15, 15, 15, 15, 15, 15, 15, 15, 15, 15, 15, 30],\n",
    "    [30,  0,  0,  0,  0, 15,  0,  0, 15,  0,  0,  0, 30],\n",
    "    [30,  0,  0,  0,  0, 15,  0,  0, 15,  0,  0,  0, 30],\n",
    "    [30,  0,  0,  0,  0, 15,  0,  0, 15,  0,  0,  0, 30],\n",
    "    [30, 30, 30, 30, 30, 30, 30, 30, 30, 30, 30, 30, 30]\n",
    "])\n",
    "```\n",
    "\n",
    "We get the following adjacency list:\n",
    "\n",
    "```python\n",
    "adjacency_list = {\n",
    "    (0,  0): {((0,5), 5, 30),  ((4,0), 4, 30)},\n",
    "    (0,  5): {((0,0), 5, 30),  ((0,8), 3, 30),  ((4,5), 4, 15)},\n",
    "    (0,  8): {((0,5), 3, 30),  ((0,12), 4, 30), ((4,8), 4, 15)},\n",
    "    (0, 12): {((0,8), 4, 30),  ((4,12), 4, 30)},\n",
    "    (4,  0): {((0,0), 4, 30),  ((4,5), 5, 15),  ((8,0), 4, 30)},\n",
    "    (4,  5): {((0,5), 4, 15),  ((4,8), 3, 15),  ((8,5), 4, 15),  ((4,0), 5, 15)},\n",
    "    (4,  8): {((0,8), 4, 15),  ((4,12), 4, 15), ((8,8), 4, 15),  ((4,5), 3, 15)},\n",
    "    (4, 12): {((0,12), 4, 30), ((8,12), 4, 30), ((4,8), 4, 15)},\n",
    "    (8,  0): {((8,5), 5, 30),  ((4,0), 4, 30)},\n",
    "    (8,  5): {((8,0), 5, 30),  ((8,8), 3, 30),  ((4,5), 4, 15)},\n",
    "    (8,  8): {((8,5), 3, 30),  ((8,12), 4, 30), ((4,8), 4, 15)},\n",
    "    (8, 12): {((8,8), 4, 30),  ((4,12), 4, 30)}\n",
    "}\n",
    "```\n",
    "\n",
    "We represent the following graph:\n",
    "\n",
    "<img src=\"graph_city.png\" alt=\"drawing\" width=\"500\"/>\n",
    "\n",
    "***Note, that this road network has no one-direction roads.***"
   ]
  },
  {
   "cell_type": "code",
   "execution_count": 33,
   "id": "beb9c791-0463-430b-9845-9370dd990470",
   "metadata": {},
   "outputs": [
    {
     "name": "stdout",
     "output_type": "stream",
     "text": [
      "Appending to assignment2_2361353_3326500_notebook.py\n"
     ]
    }
   ],
   "source": [
    "%%execwritefile assignment2_{group}_notebook.py 15 -a -s -c\n",
    "\n",
    "class Graph(Graph):   \n",
    "    def find_edges(self):\n",
    "        \"\"\"\n",
    "        This method does a depth-first/brute-force search for each node to find the edges of each node.\n",
    "        \"\"\"\n",
    "        for node in self.adjacency_list.keys():\n",
    "            neighbors = self.neighbour_coordinates(node)\n",
    "            for neighbor in neighbors:\n",
    "                if neighbor in self.adjacency_list:  # Check if the neighbor is also a node\n",
    "                    distance = self.map.grid[neighbor]  # Assume distance or weight could be directly from map values\n",
    "                    edge = (neighbor, distance)  # Simplified edge definition\n",
    "                    self.adjacency_list[node].add(edge)\n",
    "\n",
    "    def find_next_node_in_adjacency_list(self, node, direction):\n",
    "        \"\"\"\n",
    "        This is a helper method for find_edges to find a single edge given a node and a direction.\n",
    "\n",
    "        :param node: The node from which we try to find its \"neighboring node\" NOT its neighboring coordinates.\n",
    "        :type node: tuple[int]\n",
    "        :param direction: The direction we want to search in this can only be 4 values (0, 1), (1, 0), (0, -1) or (-1, 0).\n",
    "        :type direction: tuple[int]\n",
    "        :return: This returns the first node in this direction and the distance.\n",
    "        :rtype: tuple[int], int \n",
    "        \"\"\"\n",
    "        x, y = node\n",
    "        dx, dy = direction\n",
    "        while 0 <= x < self.map.shape[0] and 0 <= y < self.map.shape[1]:\n",
    "            if self.map.grid[x, y] != 0:\n",
    "                return (x, y), self.map.grid[x, y]\n",
    "            x += dx\n",
    "            y += dy\n",
    "        return None, 0"
   ]
  },
  {
   "cell_type": "markdown",
   "id": "8a207915-0ac9-4e7d-9713-4fa630f9807b",
   "metadata": {
    "editable": false,
    "slideshow": {
     "slide_type": ""
    },
    "tags": []
   },
   "source": [
    "### Test your code\n",
    "\n",
    "Below, you can test your algorithm. Make sure that you test various road grids and that your algorithm works for all of them. To give you a head start a very limited test is given."
   ]
  },
  {
   "cell_type": "code",
   "execution_count": 36,
   "id": "5133b79d-bb3d-4427-995b-0b6caa1d43b7",
   "metadata": {},
   "outputs": [
    {
     "name": "stdout",
     "output_type": "stream",
     "text": [
      "array([[30., 30., 30., 30., 30., 30., 30.],\n",
      "       [30.,  0.,  0.,  0., 15.,  0., 30.],\n",
      "       [30.,  0.,  0.,  0., 15.,  0., 30.],\n",
      "       [30., 15., 15., 15., 15., 15., 30.],\n",
      "       [30.,  0.,  0.,  0., 15.,  0., 30.],\n",
      "       [30., 30., 30., 30., 30., 30., 30.]])\n"
     ]
    }
   ],
   "source": [
    "# If you put the map generated in a separate cell you can run multiple tests on the same map\n",
    "map_ = Map(0, (1,1))\n",
    "print(map_)"
   ]
  },
  {
   "cell_type": "code",
   "execution_count": 37,
   "id": "02560ac3-8dc7-4131-b49a-1bdf42db5e59",
   "metadata": {},
   "outputs": [
    {
     "name": "stdout",
     "output_type": "stream",
     "text": [
      "{(0, 0): set(), (0, 5): set(), (1, 4): set(), (3, 1): set(), (3, 5): set(), (4, 0): set(), (4, 4): set(), (4, 6): set(), (5, 5): set()}\n"
     ]
    },
    {
     "data": {
      "image/png": "[encoded data removed]",
      "text/plain": [
       "<Figure size 1800x600 with 2 Axes>"
      ]
     },
     "metadata": {},
     "output_type": "display_data"
    }
   ],
   "source": [
    "plt.matplotlib.rcParams['figure.dpi'] = max(30, map_.size ** 0.5 // 2)  # Number of pixels, therefore, the quality of the image. A large dpi is very slow.\n",
    "\n",
    "graph = Graph(map_)\n",
    "print(graph)\n",
    "graph.show_coordinates(size=30, color=\"k\")\n",
    "graph.show_edges()\n",
    "map_.show()\n"
   ]
  },
  {
   "cell_type": "markdown",
   "id": "ab0d7ffe-f8a2-4465-9050-4ca352bd5a7d",
   "metadata": {
    "editable": false,
    "slideshow": {
     "slide_type": ""
    },
    "tags": []
   },
   "source": [
    "## 1.2 Graph Floodfill\n",
    "\n",
    "Here, we will reimplement the flood-fill algorithm but now it must work on a graph instead of a grid. To save some time we use inherritance to copy-paste all the code of `FloodFillSolver` to `FloodFillSolverGraph`. Now, we only need to overwrite the `__call__` method and `next_step` method. Depending on how you implemented `find_path` you need to overwrite it or not. Make sure your distance is correct. You can also go back and make the method work for both classes if it doesn't work right now. If you want to overwrite the method uncomment the method and complete it. You do not need to change anything else. \n",
    "\n",
    "The theory says that BFS always gives the shortest state-space graph traversal path. So far, this worked out to also give the shortest path on our map. However, this is not the case anymore. Do some experiments using the `FloodFillSolverGraph` on different map levels, why does it not guarantee to give the shortest path on some levels but on others it does? What changed between floodfill on the grid vs floodfill on the graph?"
   ]
  },
  {
   "cell_type": "code",
   "execution_count": null,
   "id": "0089f6cb-4eea-400a-8f6a-c08d406eebeb",
   "metadata": {},
   "outputs": [],
   "source": [
    "%%execwritefile assignment2_{group}_notebook.py 120 -a -s \n",
    "\n",
    "class FloodFillSolverGraph(FloodFillSolver):\n",
    "    \"\"\"\n",
    "    A class instance should at least contain the following attributes after being called:\n",
    "        :param queue: A queue that contains all the nodes that need to be visited.\n",
    "        :type queue: collections.deque\n",
    "        :param history: A dictionary containing the coordinates that will be visited and as values the coordinate that lead to this coordinate.\n",
    "        :type history: dict[tuple[int], tuple[int]]\n",
    "    \"\"\"\n",
    "    def __call__(self, graph, source, destination):      \n",
    "        \"\"\"\n",
    "        This method gives a shortest route through the grid from source to destination.\n",
    "        You start at the source and the algorithm ends if you reach the destination, both nodes should be included in the path.\n",
    "        A route consists of a list of nodes (which are coordinates).\n",
    "\n",
    "        Hint: The history is already given as a dictionary with as keys the node in the state-space graph and\n",
    "        as values the previous node from which this node was visited.\n",
    "\n",
    "        :param graph: The graph that represents the map.\n",
    "        :type graph: Graph\n",
    "        :param source: The node where the path starts.\n",
    "        :type source: tuple[int]\n",
    "        :param destination: The node where the path ends.\n",
    "        :type destination: tuple[int]\n",
    "        :return: The shortest route, which consists of a list of nodes and the length of the route.\n",
    "        :rtype: list[tuple[int]], float\n",
    "        \"\"\"       \n",
    "        self.queue = deque([source])\n",
    "        self.history = {source: None}\n",
    "        \n",
    "        raise NotImplementedError(\"Please complete this method\")       \n",
    "\n",
    "    # def find_path(self):\n",
    "    #     \"\"\"\n",
    "    #     This method finds the shortest paths between the source node and the destination node.\n",
    "    #     It also returns the length of the path. \n",
    "        \n",
    "    #     Note, that going from one node to the next has a length of 1.\n",
    "\n",
    "    #     :return: A path that is the optimal route from source to destination and its length.\n",
    "    #     :rtype: list[tuple[int]], float\n",
    "    #     \"\"\"\n",
    "    #     raise NotImplementedError(\"Please complete this method\")       \n",
    "\n",
    "    def next_step(self, node):\n",
    "        \"\"\"\n",
    "        This method returns the next possible actions.\n",
    "\n",
    "        :param node: The current node\n",
    "        :type node: tuple[int]\n",
    "        :return: A list with possible next nodes that can be visited from the current node.\n",
    "        :rtype: list[tuple[int]]  \n",
    "        \"\"\"\n",
    "        raise NotImplementedError(\"Please complete this method\")\n"
   ]
  },
  {
   "cell_type": "markdown",
   "id": "d89fd304-5596-4565-9a5e-b5d6bd35df83",
   "metadata": {
    "editable": false,
    "slideshow": {
     "slide_type": ""
    },
    "tags": []
   },
   "source": [
    "### Test your code\n",
    "\n",
    "Below, you can test your algorithm. Make sure that you test various road grids and that your algorithm works for all of them. To give you a head start a very limited test is given.\n",
    "\n",
    "***Do not forget to do the experiments described above***"
   ]
  },
  {
   "cell_type": "code",
   "execution_count": null,
   "id": "fafd75ba-49ff-4fbd-b4ea-6ddcfda12b7c",
   "metadata": {},
   "outputs": [],
   "source": [
    "# If you put the map generated in a separate cell you can run multiple tests on the same map\n",
    "map_ = Map(0, (1,3))  # Now you can also solve the levels 1, 2, 3 and 4 "
   ]
  },
  {
   "cell_type": "code",
   "execution_count": null,
   "id": "6f86c862-78d9-4e00-821b-8b68872d7d79",
   "metadata": {},
   "outputs": [],
   "source": [
    "plt.matplotlib.rcParams['figure.dpi'] = max(30, map_.size ** 0.5 // 2)  # Number of pixels, therefore, the quality of the image. A large dpi is very slow.\n",
    "\n",
    "graph = Graph(map_)\n",
    "start = (0,0)\n",
    "end = (map_.shape[0]-1, map_.shape[1]-1)\n",
    "\n",
    "path, length = FloodFillSolverGraph()(graph, start, end)\n",
    "\n",
    "print(f\"The path length was {length}.\")\n",
    "graph.show_coordinates(color='r', size=20)\n",
    "map_.show(path, True)\n"
   ]
  },
  {
   "cell_type": "markdown",
   "id": "e426dfd0-e816-472f-b12f-bb6c09e7b3ac",
   "metadata": {
    "editable": false,
    "slideshow": {
     "slide_type": ""
    },
    "tags": []
   },
   "source": [
    "## 1.3 BFS with Priority Queue\n",
    "\n",
    "As you discovered in the previous task, a basic floodfill or BFS does not work on a more general graph compared to a grid. Here, we will update the algorithm such that it works in the more general case. There are many names for such an algorithm. However, in this assignment, we are only interested in why and how it works. The main problem of a simple BFS is that it does not take into account the cost of going from one node to the next. In [1.0 Grid Floodfill ](#1.0-Grid-Floodfill,-a-Basic-BFS) this was not a problem as the cost was 1 for all steps. However, in a graph, the cost between two neighboring nodes can be anything because it is the distance between the two nodes. Therefore, we should not explore the state-space graph using a queue (first in first out) but a priority queue where we explore the nodes with the shortest distance to our source node.\n",
    "\n",
    "Think about why this solves our problems. How does changing the order of visiting nodes guarantee that when you reach the destination node you can stop because you found the shortest path?\n",
    "\n",
    "***Note, that we know that there are fast implementations in Python for a priority queue. However, we want to see that you understand how a priority queue works. Therefore you need to use a list, that you update appropriately.***"
   ]
  },
  {
   "cell_type": "code",
   "execution_count": null,
   "id": "1d484371-708c-4eb3-ae66-510d2656f542",
   "metadata": {},
   "outputs": [],
   "source": [
    "%%execwritefile assignment2_{group}_notebook.py 130 -a -s \n",
    "\n",
    "class BFSSolverShortestPath():\n",
    "    \"\"\"\n",
    "    A class instance should at least contain the following attributes after being called:\n",
    "        :param priorityqueue: A priority queue that contains all the nodes that need to be visited including the distances it takes to reach these nodes.\n",
    "        :type priorityqueue: list[tuple[tuple(int), float]]\n",
    "        :param history: A dictionary containing the nodes that will be visited and \n",
    "                        as values the node that lead to this node and\n",
    "                        the distance it takes to get to this node.\n",
    "        :type history: dict[tuple[int], tuple[tuple[int], int]]\n",
    "    \"\"\"   \n",
    "    def __call__(self, graph, source, destination):      \n",
    "        \"\"\"\n",
    "        This method gives the shortest route through the graph from the source to the destination node.\n",
    "        You start at the source node and the algorithm ends if you reach the destination node, \n",
    "        both nodes should be included in the path.\n",
    "        A route consists of a list of nodes (which are coordinates).\n",
    "\n",
    "        :param graph: The graph that represents the map.\n",
    "        :type graph: Graph\n",
    "        :param source: The node where the path starts\n",
    "        :type source: tuple[int] \n",
    "        :param destination: The node where the path ends\n",
    "        :type destination: tuple[int]\n",
    "        :param vehicle_speed: The maximum speed of the vehicle.\n",
    "        :type vehicle_speed: float\n",
    "        :return: The shortest route and the time it takes. The route consists of a list of nodes.\n",
    "        :rtype: list[tuple[int]], float\n",
    "        \"\"\"       \n",
    "        self.priorityqueue = [(source, 0)]\n",
    "        self.history = {source: (None, 0)}\n",
    "        self.destination = destination\n",
    "        \n",
    "        raise NotImplementedError(\"Please complete this method\")       \n",
    "\n",
    "    def find_path(self):\n",
    "        \"\"\"\n",
    "        This method finds the shortest paths between the source node and the destination node.\n",
    "        It also returns the length of the path. \n",
    "        \n",
    "        Note, that going from one node to the next has a length of 1.\n",
    "\n",
    "        :return: A path that is the optimal route from source to destination and its length.\n",
    "        :rtype: list[tuple[int]], float\n",
    "        \"\"\"\n",
    "        raise NotImplementedError(\"Please complete this method\")       \n",
    "\n",
    "    def main_loop(self):\n",
    "        \"\"\"\n",
    "        This method contains the logic of the flood-fill algorithm for the shortest path problem.\n",
    "\n",
    "        It does not have any inputs nor outputs. \n",
    "        Hint, use object attributes to store results.\n",
    "        \"\"\"\n",
    "        raise NotImplementedError(\"Please complete this method\")\n",
    "\n",
    "    def base_case(self, node):\n",
    "        \"\"\"\n",
    "        This method checks if the base case is reached.\n",
    "\n",
    "        :param node: The current node\n",
    "        :type node: tuple[int]\n",
    "        :return: Returns True if the base case is reached.\n",
    "        :rtype: bool\n",
    "        \"\"\"\n",
    "        raise NotImplementedError(\"Please complete this method\")\n",
    "\n",
    "    def new_cost(self, previous_node, distance, speed_limit):\n",
    "        \"\"\"\n",
    "        This is a helper method that calculates the new cost to go from the previous node to\n",
    "        a new node with a distance and speed_limit between the previous node and new node.\n",
    "\n",
    "        For now, speed_limit can be ignored.\n",
    "\n",
    "        :param previous_node: The previous node that is the fastest way to get to the new node.\n",
    "        :type previous_node: tuple[int]\n",
    "        :param distance: The distance between the node and new_node\n",
    "        :type distance: int\n",
    "        :param speed_limit: The speed limit on the road from node to new_node. \n",
    "        :type speed_limit: float\n",
    "        :return: The cost to reach the node.\n",
    "        :rtype: float\n",
    "        \"\"\"\n",
    "        raise NotImplementedError(\"Please complete this method\")\n",
    "\n",
    "    def step(self, node, new_node, distance, speed_limit):\n",
    "        \"\"\"\n",
    "        One step in the BFS algorithm. For now, speed_limit can be ignored.\n",
    "\n",
    "        :param node: The current node\n",
    "        :type node: tuple[int]\n",
    "        :param new_node: The next node that can be visited from the current node\n",
    "        :type new_node: tuple[int]\n",
    "        :param distance: The distance between the node and new_node\n",
    "        :type distance: int\n",
    "        :param speed_limit: The speed limit on the road from node to new_node. \n",
    "        :type speed_limit: float\n",
    "        \"\"\"\n",
    "        raise NotImplementedError(\"Please complete this method\")\n",
    "    \n",
    "    def next_step(self, node):\n",
    "        \"\"\"\n",
    "        This method returns the next possible actions.\n",
    "\n",
    "        :param node: The current node\n",
    "        :type node: tuple[int]\n",
    "        :return: A list with possible next nodes that can be visited from the current node.\n",
    "        :rtype: list[tuple[int]]  \n",
    "        \"\"\"\n",
    "        raise NotImplementedError(\"Please complete this method\")       \n"
   ]
  },
  {
   "cell_type": "markdown",
   "id": "886696e3-1783-45af-a86f-b7b96f5bb583",
   "metadata": {
    "editable": false,
    "slideshow": {
     "slide_type": ""
    },
    "tags": []
   },
   "source": [
    "### Test your code\n",
    "\n",
    "Below, you can test your algorithm. Make sure that you test various road grids and that your algorithm works for all of them. To give you a head start a very limited test is given."
   ]
  },
  {
   "cell_type": "code",
   "execution_count": null,
   "id": "4d38a2f1-8ea3-412c-9bc5-17c2363f33b2",
   "metadata": {},
   "outputs": [],
   "source": [
    "# If you put the map generated in a separate cell you can run multiple tests on the same map\n",
    "map_ = Map(1, (1,3))"
   ]
  },
  {
   "cell_type": "code",
   "execution_count": null,
   "id": "b76878a7-662b-40f7-b87f-efc03e3f79e6",
   "metadata": {},
   "outputs": [],
   "source": [
    "plt.matplotlib.rcParams['figure.dpi'] = max(50, map_.size ** 0.5 // 2)  # Number of pixels, therefore, the quality of the image. A large dpi is very slow.\n",
    "\n",
    "graph = Graph(map_)\n",
    "start = (0,0)\n",
    "end = (map_.shape[0]-1, map_.shape[1]-1)\n",
    "\n",
    "path, distance = BFSSolverShortestPath()(graph, start, end)\n",
    "print(f\"The path {path} has a distance of: {distance}\")\n",
    "graph.show_coordinates(color='r', size=10)\n",
    "map_.show(path, axis=True)\n"
   ]
  },
  {
   "cell_type": "markdown",
   "id": "7a0ded50-f569-45b3-a24c-34cdfc2ca1a0",
   "metadata": {
    "editable": false,
    "slideshow": {
     "slide_type": ""
    },
    "tags": []
   },
   "source": [
    "## 2.0 Fastest Path with BFS\n",
    "\n",
    "So far we focussed on the shortest path but often if you use a route planner you are not interested in the shortest path but in the fastest path. So, using faster roads that are a bit longer can give a better solution than using roads with a low speed limit. However, it also depends on the maximum speed of your vehicle, it is useless to take roads with a higher speed limit if you can not take advantage of it. Below, you will implement again a BFS algorithm that incorporates these changes. Note, that a more general fastest path algorithm can actually also give the shortest path with the correct input.\n",
    "\n",
    "***Hint: This algorithm should almost be a copy-paste from the previous BFS with the only change of what optimal is. Therefore, we will use inheritance to save you the trouble of copy-pasting.***\n"
   ]
  },
  {
   "cell_type": "code",
   "execution_count": null,
   "id": "607b4e63-b537-463c-8567-5625775ee783",
   "metadata": {},
   "outputs": [],
   "source": [
    "%%execwritefile assignment2_{group}_notebook.py 200 -a -s \n",
    "\n",
    "class BFSSolverFastestPath(BFSSolverShortestPath):\n",
    "    \"\"\"\n",
    "    A class instance should at least contain the following attributes after being called:\n",
    "        :param priorityqueue: A priority queue that contains all the nodes that need to be visited \n",
    "                              including the time it takes to reach these nodes.\n",
    "        :type priorityqueue: list[tuple[tuple[int], float]]\n",
    "        :param history: A dictionary containing the nodes that will be visited and \n",
    "                        as values the node that lead to this node and\n",
    "                        the time it takes to get to this node.\n",
    "        :type history: dict[tuple[int], tuple[tuple[int], float]]\n",
    "    \"\"\"   \n",
    "    def __call__(self, graph, source, destination, vehicle_speed):      \n",
    "        \"\"\"\n",
    "        This method gives a fastest route through the grid from source to destination.\n",
    "\n",
    "        This is the same as the `__call__` method from `BFSSolverShortestPath` except that \n",
    "        we need to store the vehicle speed. \n",
    "        \n",
    "        Here, you can see how we can overwrite the `__call__` method but \n",
    "        still use the `__call__` method of BFSSolverShortestPath using `super`.\n",
    "        \"\"\"\n",
    "        self.vehicle_speed = vehicle_speed\n",
    "        return super(BFSSolverFastestPath, self).__call__(graph, source, destination)\n",
    "\n",
    "    def new_cost(self, previous_node, distance, speed_limit):\n",
    "        \"\"\"\n",
    "        This is a helper method that calculates the new cost to go from the previous node to\n",
    "        a new node with a distance and speed_limit between the previous node and new node.\n",
    "\n",
    "        Use the `speed_limit` and `vehicle_speed` to determine the time/cost it takes to go to\n",
    "        the new node from the previous_node and add the time it took to reach the previous_node to it..\n",
    "\n",
    "        :param previous_node: The previous node that is the fastest way to get to the new node.\n",
    "        :type previous_node: tuple[int]\n",
    "        :param distance: The distance between the node and new_node\n",
    "        :type distance: int\n",
    "        :param speed_limit: The speed limit on the road from node to new_node. \n",
    "        :type speed_limit: float\n",
    "        :return: The cost to reach the node.\n",
    "        :rtype: float\n",
    "        \"\"\"\n",
    "        raise NotImplementedError(\"Please complete this method\")\n"
   ]
  },
  {
   "cell_type": "markdown",
   "id": "7e7fe7b0-d93c-4e76-8f6c-5fd0136f4efb",
   "metadata": {
    "editable": false,
    "slideshow": {
     "slide_type": ""
    },
    "tags": []
   },
   "source": [
    "### Test your code\n",
    "\n",
    "Below, you can test your algorithm. Make sure that you test various road grids and that your algorithm works for all of them. To give you a head start a very limited test is given."
   ]
  },
  {
   "cell_type": "code",
   "execution_count": null,
   "id": "c7acfb35-899c-4c7a-bdb1-aff52d3002dd",
   "metadata": {},
   "outputs": [],
   "source": [
    "# If you put the map generated in a separate cell you can run multiple tests on the same map\n",
    "map_ = Map(2, (1,3))"
   ]
  },
  {
   "cell_type": "code",
   "execution_count": null,
   "id": "50f52ee6-2667-431d-b73e-1707623cf2cd",
   "metadata": {},
   "outputs": [],
   "source": [
    "plt.matplotlib.rcParams['figure.dpi'] = max(50, map_.size ** 0.5 // 2)  # Number of pixels, therefore, the quality of the image. A large dpi is very slow.\n",
    "\n",
    "graph = Graph(map_)\n",
    "start = (0,0)\n",
    "end = (map_.shape[0]-1, map_.shape[1]-1)\n",
    "end = graph.get_random_node()\n",
    "vehicle_speed = 180\n",
    "\n",
    "path, time = BFSSolverFastestPath()(graph, start, end, vehicle_speed)\n",
    "print(f\"The estimate travel time for the path is: {time}\")\n",
    "graph.show_coordinates(color='r', size=10)\n",
    "map_.show(path, True)\n"
   ]
  },
  {
   "cell_type": "markdown",
   "id": "beafb1b9-e021-4415-9741-e080673bfe30",
   "metadata": {
    "editable": false,
    "slideshow": {
     "slide_type": ""
    },
    "tags": []
   },
   "source": [
    "## 2.1 From Coordinate to Node\n",
    "\n",
    "In this question, we will restore some functionality that we lost with the graph representation. In the first question, we could go from any coordinate on the map to any other coordinate. When we started using graphs we lost that ability because not all coordinates were in the graph and therefore we could only find paths between nodes. We do not want to at all the coordinates to the graph because we would lose our speed advantage. So, we could use the idea of divide and conquer where we have two path-finding algorithms and then connect both solutions to get a final path. In this question, we will make an algorithm to find the closest nodes of any given coordinate.\n",
    "\n",
    "Note, that each coordinate should only have 1 or 2 closest nodes.\n",
    "\n",
    "On a programming note, instead of implementing a class as we have done so far, we will use a function for this algorithm. The reason is that it is a small and not very complex algorithm therefore a function will suffice.\n",
    "\n",
    "***Hint: Sometimes a problem requires a tailor-made algorithm. In this case, we could use a floodfill on the grid with certain base case conditions, however, this is not needed at all. Think about when a coordinate is node and could it be possible that you make a turn to find a node from a coordinate?***"
   ]
  },
  {
   "cell_type": "code",
   "execution_count": null,
   "id": "179584f6-dd4b-473a-8ba2-a2cda71d268c",
   "metadata": {},
   "outputs": [],
   "source": [
    "%%execwritefile assignment2_{group}_notebook.py 210 -a -s \n",
    "\n",
    "def coordinate_to_node(map_, graph, coordinate):\n",
    "    \"\"\"\n",
    "    This function finds a path from a coordinate to its closest nodes.\n",
    "    A closest node is defined as the first node you encounter if you go a certain direction.\n",
    "    This means that unless the coordinate is a node, you will need to find two closest nodes.\n",
    "    If the coordinate is a node then return a list with only the coordinate itself.\n",
    "\n",
    "    :param map_: The map of the graph\n",
    "    :type map_: Map\n",
    "    :param graph: A Graph of the map\n",
    "    :type graph: Graph\n",
    "    :param coordinate: The coordinate from which we want to find the closest node in the graph\n",
    "    :type coordinate: tuple[int]\n",
    "    :return: This returns a list of closest nodes which contains either 1 or 2 nodes.\n",
    "    :rtype: list[tuple[int]]\n",
    "    \"\"\"\n",
    "    raise NotImplementedError(\"Please complete this method\")\n"
   ]
  },
  {
   "cell_type": "markdown",
   "id": "fba596e2-ca04-4a55-b75b-8f20d70cea65",
   "metadata": {
    "editable": false,
    "slideshow": {
     "slide_type": ""
    },
    "tags": []
   },
   "source": [
    "### Test your code\n",
    "\n",
    "Below, you can test your algorithm. Make sure that you test various road grids and that your algorithm works for all of them. To give you a head start a very limited test is given."
   ]
  },
  {
   "cell_type": "code",
   "execution_count": null,
   "id": "697b7b3f-ac49-44be-a3c0-65d580637e59",
   "metadata": {},
   "outputs": [],
   "source": [
    "# If you put the map generated in a separate cell you can run multiple tests on the same map\n",
    "map_ = Map(2, (1,3))"
   ]
  },
  {
   "cell_type": "code",
   "execution_count": null,
   "id": "7e2826ee-51f7-4015-b9f8-3e7061af3076",
   "metadata": {},
   "outputs": [],
   "source": [
    "plt.matplotlib.rcParams['figure.dpi'] = max(50, map_.size ** 0.5 // 2)  # Number of pixels, therefore, the quality of the image. A large dpi is very slow.\n",
    "\n",
    "graph = Graph(map_)\n",
    "coordinate = (0,1)\n",
    "\n",
    "nodes = coordinate_to_node(map_, graph, coordinate)\n",
    "\n",
    "graph.show_coordinates(color='r', size=10)\n",
    "plt.plot(coordinate[1], coordinate[0], 'x', color=\"yellow\", markersize=20, mew=8, label=\"coordinate\")\n",
    "plt.legend(loc='upper right')\n",
    "map_.show(nodes, True)"
   ]
  },
  {
   "cell_type": "markdown",
   "id": "5252229a-84c0-4606-b527-9016a7dc2cee",
   "metadata": {
    "editable": false,
    "slideshow": {
     "slide_type": ""
    },
    "tags": []
   },
   "source": [
    "## 2.2 Hierarchical Graph Representations\n",
    "\n",
    "***IMPORTANT NOTE: The algorithms in [2.2](#2.2-Hierarchical-Graph-Representations) and [2.3](#2.3a-Solving-the-Hierarchical-Graph-Representations) are more difficult to implement. If you describe and explain in your report how these algorithms should work but you do not implement them thus you skip to [3.0](#3.0-Fastest-Path-Between-Coordinates-(map-level-5)) then you can still get an 8.5. In other words, the following algorithms are designed to see if you can work with the ideas that you have learned in a new way and therefore make the difference between an 8.5 and 10.***\n",
    "\n",
    "Let's start with some background information. While it is unknown exactly how Google Maps works, there are open-source algorithms that should be similar to what Google Maps does. Often these algorithms include a Hierarchical system, where some nodes are more important than others. This is essentially already what we done when we went from a grid to a graph. Here, we determined that some coordinates were less important than others. However, we could take it one step further, not all nodes are equally important. For example, in a level 5 map, the highway nodes are probably way more important than some nodes inside a neighborhood. Therefore, it does not make a lot of sense to explore every little street to find the fastest route. Just to give you an idea, there are multiple solutions to prevent this behavior such as determining important nodes and connecting those with a cost and path. For example in the image below, only (0,0) and (2,2) are connected with other roads therefore it would make sense to just have a connection from node (0,0) to (2,2) indicate with the red line. Now, we effectively made the graph even smaller and therefore even faster. You can repeat this step multiple times each time removing nodes from the graph making your search faster. \n",
    "\n",
    "<img src=\"hierarchical_nodes.png\" alt=\"drawing\" width=\"200\"/>\n",
    "\n",
    "However, determining which node should be more important is not easy beyond the coordinate-to-node step and therefore we will use another option which is sectioning off the map into multiple graphs. Each graph is connected to another graph with so-called port nodes and we assume that if you find the fastest path from one node to a port node or between port nodes and connect them you have the fastest path. In [2.3](#2.3a-Solving-the-Hierarchical-Graph-Representations) we will come back to this assumption. A logical way of splitting a level 5 map would be to make a graph for each city and a graph for the highways. Here, the port nodes are the highway exits. This makes the assumptions also more likely to be true as going from a city node to a highway node as fast as possible is probably the fastest path. Why this is the case? In summary, to solve the fastest path we need to solve the following fastest paths going from: coordinate A -> closest node A -> highway exit A -> highway exit B -> closest node B -> coordinate B. \n",
    "\n",
    "To make this possible, we need to make a highway graph and we need to make a separate graph for each city. One possibility would be to use our `Graph` class but use the argument `start` such that it works on a country (level 5) map for both the highways and individual cities. In `create_country_graphs`, you need to return the highway graph and a graph for each city.\n",
    "\n",
    "***Hint: Use the methods and attributes of `map`***\n",
    "\n",
    "[Go to map objects and methods](#Map-Objects-Methods-&-Attributes)"
   ]
  },
  {
   "cell_type": "code",
   "execution_count": null,
   "id": "f91e5bdd-812d-4322-a0fd-a176679dbbae",
   "metadata": {},
   "outputs": [],
   "source": [
    "%%execwritefile assignment2_{group}_notebook.py 220 -a -s\n",
    "\n",
    "def create_country_graphs(map_):\n",
    "    \"\"\"\n",
    "    This function returns a list of all graphs of a country map, where the first graph is the highways and de rest are the cities.\n",
    "\n",
    "    :param map_: The country map\n",
    "    :type map_: Map\n",
    "    :return: A list of graphs\n",
    "    :rtype: list[Graph]\n",
    "    \"\"\"\n",
    "    raise NotImplementedError(\"Please complete this method\")"
   ]
  },
  {
   "cell_type": "markdown",
   "id": "50c82417-c695-419f-a6d7-64784df00696",
   "metadata": {
    "editable": false,
    "slideshow": {
     "slide_type": ""
    },
    "tags": []
   },
   "source": [
    "### Test your code\n",
    "\n",
    "Below, you can test your algorithm. Make sure that you test various road grids of a level 5 map and that your algorithm works for all of them. To give you a head start a very limited test is given. Here, each graph has different node colors and the port nodes (which are highway exits) have two colors green and a city graph node color."
   ]
  },
  {
   "cell_type": "code",
   "execution_count": null,
   "id": "4949f9c1-e795-4e80-b279-6925805e802e",
   "metadata": {},
   "outputs": [],
   "source": [
    "# If you put the map generated in a separate cell you can run multiple tests on the same map\n",
    "map_ = Map(5, (1,3), 5)\n"
   ]
  },
  {
   "cell_type": "code",
   "execution_count": null,
   "id": "f16006e9-e303-4c1b-b0b4-f467b7bbc7cc",
   "metadata": {},
   "outputs": [],
   "source": [
    "plt.matplotlib.rcParams['figure.dpi'] = min(1000, max(50, map_.size ** 0.5 // 4))  # Number of pixels, therefore, the quality of the image. A large dpi is very slow.\n",
    "\n",
    "colors = [\"g\", \"r\", \"b\", \"y\", \"m\", \"c\"]\n",
    "for i, graph in enumerate(create_country_graphs(map_)):\n",
    "    graph.show_coordinates(color=colors[i], size=3 if i else 6)\n",
    "map_.show()"
   ]
  },
  {
   "cell_type": "markdown",
   "id": "f3134830-29f8-44ed-bc71-167a7531bbf7",
   "metadata": {
    "editable": false,
    "slideshow": {
     "slide_type": ""
    },
    "tags": []
   },
   "source": [
    "## 2.3a Solving the Hierarchical Graph Representations\n",
    "\n",
    "***IMPORTANT NOTE: Again, [2.3a](#2.3a-Solving-the-Hierarchical-Graph-Representations) is a more difficult algorithm and you can skip it and implement [2.3b](#2.3b-Multiple-Destinations) and [3.0](#3.0-Fastest-Path-Between-Coordinates-(map-level-5)) using the multiple graphs but without solving the hierarchical graph representation. This would result in a maximum grade of a 9.5, if you describe the idea of this step correctly in your report, but without implementing it.***\n",
    "\n",
    "At this point, we have everything to create the fastest path between two coordinates in different cities. However, there are instances where going from a coordinate A -> closest node A -> highway exit A -> highway exit B -> closest node B -> coordinate B is not the fastest path because the second fastest node A -> highway exit A leads to a much faster highway exit A -> highway exit B time. Therefore, making the found path suboptimal. The current approach where we divide the problem into smaller problems will never guarantee the fastest path unless we solve the hierarchical graph representation where we consider all port nodes. Below, you can find an image of an example where the port nodes are shown. However, to solve this graph we need to know the weight (cost) of each edge which can be found by applying BFS with a priority queue. However, while this would still be a bit faster than just searching from closest node A to closest node B in one go. We still need to find a lot of smaller paths as can be seen in the image below.\n",
    "\n",
    "<img src=\"hierarchical_graph.png\" alt=\"drawing\" width=\"800\"/>\n",
    "\n",
    "However, We can explore the graph where we only calculate the fastest path between two connected nodes if it is needed. This can be done by not searching for all highway exits but only the $n$ fastest from both closest nodes at the same time. This solves our previous problem where the second nearest highway exit was the fastest route. Now, we have essentially created a tuning parameter between a fast search and a guaranteed optimal search. Think about what happens if n equals 1 or if n equals the number of highway exits.\n",
    "\n",
    "We need to change three things compared to our previous `BFSSolverFastestPath`:\n",
    " - Our algorithm needs to accept multiple source nodes where each node has a travel time which is the time it takes to get to the source node (this can be zero).\n",
    " - Our algorithm needs to accept multiple destination nodes where each node has a travel time which is the time it takes to get from the destination node to somewhere else (this can be zero).\n",
    " - `find_path` needs to be updated to `find_n_paths`such that it takes into account the destination travel time but also return the $n$ best optimal paths.\n",
    "\n",
    "This means that instead of starting with a history and queue of one node we start with multiple source nodes and we search for multiple destinations. Also, the start cost is not 0, but the cost so far to get there. Similarly, the total path cost for the path includes the cost of the destination node (which can be zero or the cost to get from this destination node to another node).\n",
    "\n",
    "Note, that we already use inheritance to copy-paste all the code from `BFSSolverFastestPath` to `BFSSolverMultipleFastestPaths`. Also, `found_destinations` are now the destinations found by the algorithm, and `destination_nodes` is the input argument containing all destinations. This is different compared to `destinations` as it also contains the travel time for each destination. We gave you the three methods which we think should be adjusted. However, you are free to overwrite any other previous methods as well.\n",
    "\n",
    "We included an `__init__` To make different versions of the `BFSSolverMultipleFastestPaths` where the number of paths found is different.\n",
    "\n",
    "***You can use [2.3b](#2.3b-Multiple-Destinations) to practice because in [2.3b](#2.3b-Multiple-Destinations) you only need to search for multiple destination nodes which is a separate problem from starting with multiple nodes or finding the $n$ optimal paths.***"
   ]
  },
  {
   "cell_type": "code",
   "execution_count": null,
   "id": "efddfc94-218f-4e47-b2ec-d5498b943daa",
   "metadata": {},
   "outputs": [],
   "source": [
    "%%execwritefile assignment2_{group}_notebook.py 230 -a -s \n",
    "\n",
    "class BFSSolverMultipleFastestPaths(BFSSolverFastestPath):\n",
    "    \"\"\"\n",
    "    A class instance should at least contain the following attributes after being called:\n",
    "        :param priorityqueue: A priority queue that contains all the nodes that need to be visited including the time it takes to reach these nodes.\n",
    "        :type priorityqueue: list[tuple[tuple[int], float]]\n",
    "        :param history: A dictionary containing the nodes that are visited and as values the node that leads to this node including the time it takes from the start node.\n",
    "        :type history: dict[tuple[int], tuple[tuple[int], float]]\n",
    "        :param found_destinations: The destinations already found with Dijkstra.\n",
    "        :type found_destinations: list[tuple[int]]\n",
    "    \"\"\"\n",
    "    def __init__(self, find_at_most=3):\n",
    "        \"\"\"\n",
    "        This init makes it possible to make a different Dijkstra algorithm \n",
    "        that find more or less destination nodes before it stops searching.\n",
    "\n",
    "        :param find_at_most: The number of found destination nodes before the algorithm stops\n",
    "        :type find_at_most: int\n",
    "        \"\"\"\n",
    "        self.find_at_most = find_at_most\n",
    "    \n",
    "    def __call__(self, graph, sources, destinations, vehicle_speed):      \n",
    "        \"\"\"\n",
    "        This method gives the top three fastest routes through the grid from any of the sources to any of the destinations.\n",
    "        You start at the sources and the algorithm ends if you reach enough destinations, both nodes should be included in the path.\n",
    "        A route consists of a list of nodes (which are coordinates).\n",
    "\n",
    "        :param graph: The graph that represents the map.\n",
    "        :type graph: Graph\n",
    "        :param sources: The nodes where the path starts and the time it took to get here.\n",
    "        :type sources: list[tuple[tuple[int], float]]\n",
    "        :param destinations: The nodes where the path ends and the time it took to get here.\n",
    "        :type destinations: list[tuple[tuple[int], float]]\n",
    "        :param vehicle_speed: The maximum speed of the vehicle.\n",
    "        :type vehicle_speed: float\n",
    "        :return: A list of the n fastest paths and time they take, sorted from fastest to slowest \n",
    "        :rtype: list[tuple[path, float]], where path is a fictional data type consisting of a list[tuple[int]]\n",
    "        \"\"\"       \n",
    "        self.priorityqueue = sorted(sources, key=lambda x:x[1])\n",
    "        self.history = {s: (None, t) for s, t in sources}\n",
    "        \n",
    "        self.destinations = destinations\n",
    "        self.destination_nodes = [dest[0] for dest in destinations]\n",
    "        self.found_destinations = []\n",
    "\n",
    "        raise NotImplementedError(\"Please complete this method\")       \n",
    "\n",
    "    def find_n_paths(self):\n",
    "        \"\"\"\n",
    "        This method needs to find the top `n` fastest paths between any source node and any destination node.\n",
    "        This does not mean that each source node has to be in a path nor that each destination node needs to be in a path.\n",
    "\n",
    "        Hint1: The fastest path is stored in each node by linking to the previous node. \n",
    "               Therefore, if you start searching from a destination node,\n",
    "               you always find the optimal path from that destination node.\n",
    "               This is similar if you only had one destination node.         \n",
    "\n",
    "        :return: A list of the n fastest paths and time they take, sorted from fastest to slowest \n",
    "        :rtype: list[tuple[path, float]], where path is a fictional data type consisting of a list[tuple[int]]\n",
    "        \"\"\"\n",
    "        raise NotImplementedError(\"Please complete this method\")       \n",
    "        \n",
    "    def base_case(self, node):\n",
    "        \"\"\"\n",
    "        This method checks if the base case is reached and\n",
    "        updates self.found_destinations\n",
    "\n",
    "        :param node: The current node\n",
    "        :type node: tuple[int]\n",
    "        :return: Returns True if the base case is reached.\n",
    "        :rtype: bool\n",
    "        \"\"\"\n",
    "        raise NotImplementedError(\"Please complete this method\")"
   ]
  },
  {
   "cell_type": "markdown",
   "id": "9aa05a3a-31d7-447c-8c65-a6420ef9dd67",
   "metadata": {
    "editable": false,
    "slideshow": {
     "slide_type": ""
    },
    "tags": []
   },
   "source": [
    "### Test your code\n",
    "\n",
    "Below, you can test your algorithm. Make sure that you test various road grids and that your algorithm works for all of them. The test that is given contains one start node and three random destination nodes. Try to make a test, where you choose one start node inside a city and as destination nodes the city highway exits. Of course, you need to use the level 5 map to do this."
   ]
  },
  {
   "cell_type": "code",
   "execution_count": null,
   "id": "c9c95524-e5a0-4cda-babf-63ac51eda46d",
   "metadata": {},
   "outputs": [],
   "source": [
    "# If you put the map generated in a separate cell you can run multiple tests on the same map\n",
    "map_ = Map(2, (1,3))"
   ]
  },
  {
   "cell_type": "code",
   "execution_count": null,
   "id": "a85c25f1-8a12-4bda-987f-811ca5a7a28e",
   "metadata": {},
   "outputs": [],
   "source": [
    "plt.matplotlib.rcParams['figure.dpi'] = min(1000, max(50, map_.size ** 0.5 // 4))  # Number of pixels, therefore, the quality of the image. A large dpi is very slow.\n",
    "\n",
    "graph = Graph(map_)\n",
    "start = [((0,0), 0)]\n",
    "ends = [(graph.get_random_node(), 0), (graph.get_random_node(), 0), (graph.get_random_node(), 0)]\n",
    "vehicle_speed = 180\n",
    "\n",
    "print(ends)\n",
    "paths = BFSSolverMultipleFastestPaths()(graph, start, ends, vehicle_speed)\n",
    "for path, time in paths:\n",
    "    print(f\"The estimate travel time for the path is: {time}\")\n",
    "    print(path)\n",
    "    graph.show_coordinates(color='r', size=10)\n",
    "    map_.show(path, True)"
   ]
  },
  {
   "cell_type": "markdown",
   "id": "f4381a32-e4b0-48fe-b2cc-0fe95b548d6a",
   "metadata": {
    "editable": false,
    "slideshow": {
     "slide_type": ""
    },
    "tags": []
   },
   "source": [
    "### Practice With BFSSolverMultipleFastestPaths Before 3.0\n",
    "\n",
    "Here you can make a test where you can practice connecting a node to the highway or finding paths between two ringways (the highway exits of two different cities) as suggested in test your code above. In question [3.0](#3.0-Fastest-Path-Between-Coordinates-(map-level-5)) you are tasked to connect two nodes using highway exits. Here, is a good place to practice how to do the substeps needed for [3.0](#3.0-Fastest-Path-Between-Coordinates-(map-level-5)). Note, that this exercise has a lot in common with lab 8 exercises 3.0 and 3.1."
   ]
  },
  {
   "cell_type": "code",
   "execution_count": null,
   "id": "a3f3766a-9ee4-4efe-8478-3c3be75f1175",
   "metadata": {},
   "outputs": [],
   "source": [
    "# If you put the map generated in a separate cell you can run multiple tests on the same map\n",
    "map_ = Map(5, (1,3))"
   ]
  },
  {
   "cell_type": "code",
   "execution_count": null,
   "id": "aacbc372-c4a0-4952-afbb-d42c5bc2ddab",
   "metadata": {},
   "outputs": [],
   "source": [
    "# Write you tests here"
   ]
  },
  {
   "cell_type": "markdown",
   "id": "f7cfcdc6-35be-465d-87eb-760cd8ab606f",
   "metadata": {
    "editable": false,
    "slideshow": {
     "slide_type": ""
    },
    "tags": []
   },
   "source": [
    "## 2.3b Multiple Destinations\n",
    "\n",
    "***IMPORTANT NOTE: This question is only a replacement for [2.3a](#2.3a-Solving-the-Hierarchical-Graph-Representations). So skip it if you did [2.3a](#2.3a-Solving-the-Hierarchical-Graph-Representations)!***\n",
    "\n",
    "Our previous `BFSSolverFastestPath` could only solve a path if the source and destination node were known. However, we do not know what the closest highway exit is when we try to find the fastest path between the closest node and the nearest highway exit. This can be solved by just giving multiple destination nodes and the destination node you find is the closest and therefore you can stop. Below, you need to program this functionality.\n",
    "\n",
    "Note, that we already use inheritance to copy-paste all the code from `BFSSolverFastestPath` to `BFSSolverFastestPathMD`. Also, `destination` is now the destination found by the algorithm, and `destinations` is the input argument containing all destinations. We gave you the two methods which we think should be adjusted. However, you are free to overwrite any other previous methods as well."
   ]
  },
  {
   "cell_type": "code",
   "execution_count": null,
   "id": "dd63464b-1159-4c07-9d24-bcee32cae385",
   "metadata": {},
   "outputs": [],
   "source": [
    "%%execwritefile assignment2_{group}_notebook.py 235 -a -s \n",
    "\n",
    "class BFSSolverFastestPathMD(BFSSolverFastestPath):\n",
    "    def __call__(self, graph, source, destinations, vehicle_speed):      \n",
    "        \"\"\"\n",
    "        This method is functionally no different than the call method of BFSSolverFastestPath\n",
    "        except for what `destination` is.\n",
    "\n",
    "        See for an explanation of all arguments `BFSSolverFastestPath`.\n",
    "        \n",
    "        :param destinations: The nodes where the path ends.\n",
    "        :type destinations: list[tuple[int]]\n",
    "        \"\"\"\n",
    "        self.priorityqueue = [(source, 0)]\n",
    "        self.history = {source: (None, 0)}\n",
    "        self.destinations = destinations\n",
    "        self.destination = None\n",
    "        self.vehicle_speed = vehicle_speed\n",
    "\n",
    "        raise NotImplementedError(\"Please complete this method\")       \n",
    "\n",
    "    def base_case(self, node):\n",
    "        \"\"\"\n",
    "        This method checks if the base case is reached.\n",
    "\n",
    "        :param node: The current node\n",
    "        :type node: tuple[int]\n",
    "        :return: returns True if the base case is reached.\n",
    "        :rtype: bool\n",
    "        \"\"\"\n",
    "        raise NotImplementedError(\"Please complete this method\")"
   ]
  },
  {
   "cell_type": "markdown",
   "id": "c29b7f3f-6c16-4ea2-a0c4-e357216ea758",
   "metadata": {
    "editable": false,
    "slideshow": {
     "slide_type": ""
    },
    "tags": []
   },
   "source": [
    "### Test your code\n",
    "\n",
    "Below, you can test your algorithm. Make sure that you test various road grids and that your algorithm works for all of them. The test that is given contains one start node and three random destination nodes. Try to make a test, where you choose one start node inside a city and as destination nodes the city highway exits. Of course, you need to use the level 5 map to do this."
   ]
  },
  {
   "cell_type": "code",
   "execution_count": null,
   "id": "0232c490-1347-4c1d-afd2-72a6c8483da6",
   "metadata": {},
   "outputs": [],
   "source": [
    "# If you put the map generated in a separate cell you can run multiple tests on the same map\n",
    "map_ = Map(2, (1,3))"
   ]
  },
  {
   "cell_type": "code",
   "execution_count": null,
   "id": "bfed76b9-0c84-42e1-a3a6-4d5a30b46271",
   "metadata": {},
   "outputs": [],
   "source": [
    "plt.matplotlib.rcParams['figure.dpi'] = min(1000, max(50, map_.size ** 0.5 // 4))  # Number of pixels, therefore, the quality of the image. A large dpi is very slow.\n",
    "\n",
    "graph = Graph(map_)\n",
    "\n",
    "start = (0,0)\n",
    "end = [graph.get_random_node(), graph.get_random_node(), graph.get_random_node()]\n",
    "print(end)\n",
    "vehicle_speed = 180\n",
    "\n",
    "path, time = BFSSolverFastestPathMD()(graph, start, end, vehicle_speed)\n",
    "print(f\"The estimate travel time for the path is: {time}\")\n",
    "graph.show_coordinates(color='r', size=10)\n",
    "plt.plot([y for _,y in end], [x for x,_ in end], 'x', color=\"yellow\", markersize=20, mew=8, label=\"destinations\")\n",
    "plt.legend(loc='upper right')\n",
    "map_.show(path, True)\n"
   ]
  },
  {
   "cell_type": "markdown",
   "id": "d6c8a9bb-d774-4f4c-86a7-1b5012b0320c",
   "metadata": {
    "editable": false,
    "slideshow": {
     "slide_type": ""
    },
    "tags": []
   },
   "source": [
    "## 3.0 Fastest Path Between Coordinates (map level 5)\n",
    "\n",
    "The final exercise in this assignment is to combine the algorithms implemented so far to make a path from one coordinate to another where we go from a coordinate A -> closest node A -> highway exit A -> highway exit B -> closest node B -> coordinate B. In this exercise, you should not implement any new path-finding algorithms. Below you can find some hints and rules:\n",
    "- The algorithm you need to write has to work only on level 5 maps.\n",
    "- You only need to find the fastest path, ***not*** the shortest path.\n",
    "- You do not have to find the path in the order given above. For example, you can first find the path from coordinate A to closest node A and the path from coordinate B to closest node B before finding a path between highway exits.\n",
    "- Start with finding in which city each coordinate is.\n",
    "- You are allowed to use helper functions. For example, a function to calculate the time it takes to travel between two nodes.\n",
    "- When searching for the nearest exits assume that all exits are equally good.\n",
    "- If two nodes are in the same city, you need to check if using the highway is faster. This means, however, that you do not have to use them.\n",
    "- If you did [2.2](#2.2-Hierarchical-Graph-Representations), you need to use the different graphs. **You are never allowed to use a BFS solver on the whole map**, not even as a side/sub-step.\n",
    "- As explained in [2.3a](#2.3a-Solving-the-Hierarchical-Graph-Representations), just using one outcome of the previous path-finding algorithm can easily lead to a sub-optimal path. Therefore, to get to all points, you need to use the top $n$ (if possible) best path destinations from the previous algorithm as start destinations in the next path-finding algorithm.\n",
    "\n",
    "Just as a summary here are the classes and functions you implemented (that could be useful):\n",
    "- `Graph` class [link](#1.1.0-Making-Graph-Nodes-from-a-Map)\n",
    "- `coordinate_to_node` function [link](#2.1-From-Coordinate-to-Node)\n",
    "- `create_country_graphs` function [link](#2.2-Hierarchical-Graph-Representations)\n",
    "- `BFSSolverFastestPath` class [link](#2.0-Fastest-Path-with-BFS)\n",
    "- `BFSSolverFastestPathMD` class [link](#2.3b-Multiple-Destinations)\n",
    "- `BFSSolverMultipleFastestPaths` class [link](#2.3a-Solving-the-Hierarchical-Graph-Representations)\n",
    "\n",
    "[Go to map objects and methods](#Map-Objects-Methods-&-Attributes)"
   ]
  },
  {
   "cell_type": "code",
   "execution_count": null,
   "id": "d06f51f2-55e4-4acc-8341-f2554a44e202",
   "metadata": {},
   "outputs": [],
   "source": [
    "%%execwritefile assignment2_{group}_notebook.py 300 -a -s \n",
    "\n",
    "def path_length(coordinate, closest_nodes, map_, vehicle_speed):\n",
    "    return [(node, (abs(node[0] - coordinate[0]) + abs(node[1] - coordinate[1])) / min(vehicle_speed, map_[coordinate])) for node in closest_nodes] \n",
    "\n",
    "def find_path(coordinate_A, coordinate_B, map_, vehicle_speed, find_at_most=3):\n",
    "    \"\"\"\n",
    "    Find the optimal path according to the divide and conquer strategy from coordinate A to coordinate B.\n",
    "\n",
    "    See hints and rules above on how to do this.\n",
    "\n",
    "    :param coordinate_A: The start coordinate\n",
    "    :type coordinate_A: tuple[int]\n",
    "    :param coordinate_B: The end coordinate\n",
    "    :type coordinate_B: tuple[int]\n",
    "    :param map_: The map on which the path needs to be found\n",
    "    :type map_: Map\n",
    "    :param vehicle_speed: The maximum vehicle speed\n",
    "    :type vehicle_speed: float\n",
    "    :param find_at_most: The number of routes to find for each path finding algorithm, defaults to 3. \n",
    "                         Note, that this is only needed if you did 2.3.\n",
    "    :type find_at_most: int, optional\n",
    "    :return: The path between coordinate_A and coordinate_B. Also, return the cost.\n",
    "    :rtype: list[tuple[int]], float\n",
    "    \"\"\"\n",
    "    raise NotImplementedError(\"Please complete this method\")"
   ]
  },
  {
   "cell_type": "markdown",
   "id": "10489701-3bd0-435b-b92f-fb7363e81df1",
   "metadata": {
    "editable": false,
    "slideshow": {
     "slide_type": ""
    },
    "tags": []
   },
   "source": [
    "### Test your code\n",
    "\n",
    "Below, you can test your algorithm. Make sure that you test various road grids and that your algorithm works for all of them. To give you a head start a very limited test is given. For example, make sure that you test how your algorithm works if both coordinates are in the same city."
   ]
  },
  {
   "cell_type": "code",
   "execution_count": null,
   "id": "40219da4-0279-4fd1-8f29-52863ec3cde7",
   "metadata": {},
   "outputs": [],
   "source": [
    "# If you put the map generated in a separate cell you can run multiple tests on the same map\n",
    "map_ = Map(5, (2, 4), 2) "
   ]
  },
  {
   "cell_type": "code",
   "execution_count": null,
   "id": "6d7e8805-7b02-4eed-bde4-83aba4d39ac9",
   "metadata": {},
   "outputs": [],
   "source": [
    "plt.matplotlib.rcParams['figure.dpi'] = min(1000, max(50, map_.size ** 0.5 // 4))  # Number of pixels, therefore, the quality of the image. A large dpi is very slow.\n",
    "\n",
    "start = map_.get_coordinate_in_city(RNG.integers(len(map_.city_grids)-1))\n",
    "end = map_.get_coordinate_in_city(RNG.integers(len(map_.city_grids)-1))\n",
    "vehicle_speed = 180\n",
    "\n",
    "path, time = find_path(start, end, map_, vehicle_speed, 3)\n",
    "print(f\"The estimate travel time for the path is: {time}\")\n",
    "# uncomment to see all nodes\n",
    "# graph = Graph(map_)\n",
    "# graph.show_coordinates(color='g', size=2)\n",
    "map_.show(path)"
   ]
  },
  {
   "cell_type": "markdown",
   "id": "c1fe59f8-bf58-4ae8-ac48-f8af0aa0e7cd",
   "metadata": {
    "editable": false,
    "slideshow": {
     "slide_type": ""
    },
    "tags": []
   },
   "source": [
    "# UNITTESTS\n",
    "\n",
    "During this assignment, we copied all your code to the following **.py** file **\"assignment2_{group}_notebook.py\"**. You also tested your code along the way. However, it is possible that there are still a few errors. Therefore, it is good to run some unittest when you complete all coding. This gives you an extra chance to spot mistakes. Here, we added some unittest for you to use. Note, that they are not ***complete*** and that they are merely an indication if you are above or below a 6 (still no guarantee). In this assignment, there are fewer unittest and the best unittest are checking in the images if your algorithm works. Try, for each algorithm different inputs and check if the route changing how you expect it to change.\n",
    "\n",
    "From this point onwards we strongly advise renaming the **\"assignment2_{group}_notebook.py\"** file to the correct file name that you need to hand in **\"assignment2_{group}.py\"**. Now, you can adjust the **\"assignment2_{group}.py\"** file without the risk of overwriting it when you run the notebook again. This also enables the possibility to run the unittests. Note, that from now on you are done programming in the notebook and you need to adjust the **.py** file to fix bugs. To run the unittests go to the **\"unit_test.py\"** file and run the file in either PyCharm, VSCode, or a terminal. You can run it in a terminal using the following command: `python -m unittest --verbose unit_test.py`. `--verbose` is optional but gives you more details about which tests fail and which succeed.\n",
    "\n",
    "You are allowed to add your own unittests.\n",
    "\n",
    "***Do not forget to write Your Report! Instruction can be found below***\n",
    "\n",
    "# Report\n",
    "\n",
    "Write a report in LATEX(at most 3 pages) using the provided template (see Brightspace), addressing the following points/research questions:\n",
    " - Introduction: Describe the problem. Describe a state and action explicitly in the context of this problem.\n",
    " - A (concise) description of the methods you implemented and why you need a priority queue for the BFS on graphs to make the algorithm work compared to BFS for the floodfill algorithm that does not use a priority queue.\n",
    " - Hypothesize about which algorithm is faster and what to possible downsides are of each algorithm.\n",
    " - A small experiment in which you compare (a) the exhaustive approach, as well as (b) the greedy approach, and show over several graphs of increasing size the best-found solution as well as the amount of time needed to come to a solution. You can use the module time (time.time()) to test how long each algorithm takes. However, make sure you do not have any other processes actively running in the background. A better way is using the module timeit for example timeit.repeat(). However, this is a bit more difficult to get working.\n",
    " - Alternatively, if you do not implement 2.2 and 2.3 find a paper that uses some form of hierarchical graphs to solve a path-finding problem and give a small summary of their findings, including what they test, a general explanation how their algorithm works, and their conclusions.\n",
    " - Summary and Discussion. What was the goal of the assignment? What have you done and observed? (think about the performance of the algorithms, as well as a reflection on how that relates to what you would have expected). Do not write about your personal experience and stories. Keep it scientific and simply summarize the report, making observations about the algorithms.\n",
    "\n",
    "## Work distribution\n",
    "\n",
    "At the end of the report, include a distribution of the work: who did what? By default, we\n",
    "give both group members the same grade, but in some extreme cases, we will adjust the grades according to the workload. The work distribution does not count towards the page limit.\n",
    "\n",
    "# Submission\n",
    "\n",
    "Submit your assignment through Brightspace by submitting the following files:\n",
    " - report.pdf (the report)\n",
    " - assignment2_{groupname}.py (your solution code), the groupname should be a string with the following format f\"{studentnumber1}_{studentnumber2}\". This name should not include \"notebook\" or \"backup\"!\n",
    " - assignment2.ipynb (backup if something goes wrong)\n",
    "   \n",
    "The deadline for this assignment is Wednesday 29 May 2023, 23:59 CET."
   ]
  },
  {
   "cell_type": "code",
   "execution_count": null,
   "id": "c0f2525a-f92b-4d7e-a02e-1f85b6cd94fc",
   "metadata": {
    "editable": true,
    "slideshow": {
     "slide_type": ""
    },
    "tags": []
   },
   "outputs": [],
   "source": []
  }
 ],
 "metadata": {
  "kernelspec": {
   "display_name": "Python 3 (ipykernel)",
   "language": "python",
   "name": "python3"
  },
  "language_info": {
   "codemirror_mode": {
    "name": "ipython",
    "version": 3
   },
   "file_extension": ".py",
   "mimetype": "text/x-python",
   "name": "python",
   "nbconvert_exporter": "python",
   "pygments_lexer": "ipython3",
   "version": "3.10.11"
  }
 },
 "nbformat": 4,
 "nbformat_minor": 5
}
